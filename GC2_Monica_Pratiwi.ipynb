{
  "nbformat": 4,
  "nbformat_minor": 0,
  "metadata": {
    "colab": {
      "provenance": [],
      "collapsed_sections": [
        "Q4LhaapV8ahp",
        "-LGKrzotDwBH",
        "TtJpKN1WM0pi",
        "ekR9XGWLgJSS",
        "8dETm9u2RZNH",
        "eTaCceY6Y9q2",
        "n_jxdZXi8u2-",
        "kzJD6znZM4_J",
        "ukgE9-36NJzg",
        "rsLIZSuHNMMH"
      ]
    },
    "kernelspec": {
      "name": "python3",
      "display_name": "Python 3"
    },
    "language_info": {
      "name": "python"
    }
  },
  "cells": [
    {
      "cell_type": "markdown",
      "source": [
        "# Graded Challenge 2\n",
        "Monica M. Pratiwi (FTDS016)"
      ],
      "metadata": {
        "id": "Q4LhaapV8ahp"
      }
    },
    {
      "cell_type": "markdown",
      "source": [
        "## Description\n",
        "\n",
        "### Objective\n",
        "\n",
        "Analisa sistem pembuangan dan pengelolaan sampah di Austin Smart City.\n",
        "\n",
        "### Problem Statement\n",
        "\n",
        "Kamu adalah anggota tim Data Science di Austin Smart City dan sedang mengerjakan projek analisa sistem pembuangan dan pengelolaan sampah di kota tersebut. Sebagai anggota tim, berdasarkan data yang tersedia, coba analisa data tersebut menggunakan statistik deskriptif dan inferensial, serta berikan insight kepada pemerintah kota Austin mengenai kondisi sistem pembuangan dan pengelolaan sampah. "
      ],
      "metadata": {
        "id": "C8HR0PH2DlCE"
      }
    },
    {
      "cell_type": "markdown",
      "source": [
        "## Working Area\n"
      ],
      "metadata": {
        "id": "-LGKrzotDwBH"
      }
    },
    {
      "cell_type": "markdown",
      "source": [
        "Data Loading dari bigquery-public-data pada Google Cloud Big Query. Data diperoleh dari tabel \"summary\" yang terdapat di database 'bigquery-public-data.austin_waste.waste_and_diversion' dan perlu dilakukan proses *query* agar mendapatkan hasil yang sesuai. "
      ],
      "metadata": {
        "id": "Xo-HDvVYqWkl"
      }
    },
    {
      "cell_type": "code",
      "execution_count": null,
      "metadata": {
        "id": "GD0-BLfe4FUr"
      },
      "outputs": [],
      "source": [
        "select\n",
        "a.report_date,\n",
        "a.load_time,\n",
        "a.load_type,\n",
        "a.load_weight,\n",
        "a.dropoff_site,\n",
        "from `bigquery-public-data.austin_waste.waste_and_diversion` a\n",
        "where a.report_date between '2021-01-01' and '2021-07-09'\n",
        "order by a.report_date;"
      ]
    },
    {
      "cell_type": "code",
      "source": [
        "# Import Library\n",
        "import numpy as np\n",
        "import pandas as pd"
      ],
      "metadata": {
        "id": "ewEClCab8V2V"
      },
      "execution_count": 1,
      "outputs": []
    },
    {
      "cell_type": "code",
      "source": [
        "# Import file to google colab\n",
        "from google.colab import files\n",
        "uploaded = files.upload()"
      ],
      "metadata": {
        "colab": {
          "base_uri": "https://localhost:8080/",
          "height": 74
        },
        "id": "Rg--Fzi4BYDT",
        "outputId": "6490a496-d8ff-4ae9-f150-f6f41d5370dc"
      },
      "execution_count": 2,
      "outputs": [
        {
          "output_type": "display_data",
          "data": {
            "text/plain": [
              "<IPython.core.display.HTML object>"
            ],
            "text/html": [
              "\n",
              "     <input type=\"file\" id=\"files-7c8341c5-a31e-49ab-9245-493db2b88c12\" name=\"files[]\" multiple disabled\n",
              "        style=\"border:none\" />\n",
              "     <output id=\"result-7c8341c5-a31e-49ab-9245-493db2b88c12\">\n",
              "      Upload widget is only available when the cell has been executed in the\n",
              "      current browser session. Please rerun this cell to enable.\n",
              "      </output>\n",
              "      <script>// Copyright 2017 Google LLC\n",
              "//\n",
              "// Licensed under the Apache License, Version 2.0 (the \"License\");\n",
              "// you may not use this file except in compliance with the License.\n",
              "// You may obtain a copy of the License at\n",
              "//\n",
              "//      http://www.apache.org/licenses/LICENSE-2.0\n",
              "//\n",
              "// Unless required by applicable law or agreed to in writing, software\n",
              "// distributed under the License is distributed on an \"AS IS\" BASIS,\n",
              "// WITHOUT WARRANTIES OR CONDITIONS OF ANY KIND, either express or implied.\n",
              "// See the License for the specific language governing permissions and\n",
              "// limitations under the License.\n",
              "\n",
              "/**\n",
              " * @fileoverview Helpers for google.colab Python module.\n",
              " */\n",
              "(function(scope) {\n",
              "function span(text, styleAttributes = {}) {\n",
              "  const element = document.createElement('span');\n",
              "  element.textContent = text;\n",
              "  for (const key of Object.keys(styleAttributes)) {\n",
              "    element.style[key] = styleAttributes[key];\n",
              "  }\n",
              "  return element;\n",
              "}\n",
              "\n",
              "// Max number of bytes which will be uploaded at a time.\n",
              "const MAX_PAYLOAD_SIZE = 100 * 1024;\n",
              "\n",
              "function _uploadFiles(inputId, outputId) {\n",
              "  const steps = uploadFilesStep(inputId, outputId);\n",
              "  const outputElement = document.getElementById(outputId);\n",
              "  // Cache steps on the outputElement to make it available for the next call\n",
              "  // to uploadFilesContinue from Python.\n",
              "  outputElement.steps = steps;\n",
              "\n",
              "  return _uploadFilesContinue(outputId);\n",
              "}\n",
              "\n",
              "// This is roughly an async generator (not supported in the browser yet),\n",
              "// where there are multiple asynchronous steps and the Python side is going\n",
              "// to poll for completion of each step.\n",
              "// This uses a Promise to block the python side on completion of each step,\n",
              "// then passes the result of the previous step as the input to the next step.\n",
              "function _uploadFilesContinue(outputId) {\n",
              "  const outputElement = document.getElementById(outputId);\n",
              "  const steps = outputElement.steps;\n",
              "\n",
              "  const next = steps.next(outputElement.lastPromiseValue);\n",
              "  return Promise.resolve(next.value.promise).then((value) => {\n",
              "    // Cache the last promise value to make it available to the next\n",
              "    // step of the generator.\n",
              "    outputElement.lastPromiseValue = value;\n",
              "    return next.value.response;\n",
              "  });\n",
              "}\n",
              "\n",
              "/**\n",
              " * Generator function which is called between each async step of the upload\n",
              " * process.\n",
              " * @param {string} inputId Element ID of the input file picker element.\n",
              " * @param {string} outputId Element ID of the output display.\n",
              " * @return {!Iterable<!Object>} Iterable of next steps.\n",
              " */\n",
              "function* uploadFilesStep(inputId, outputId) {\n",
              "  const inputElement = document.getElementById(inputId);\n",
              "  inputElement.disabled = false;\n",
              "\n",
              "  const outputElement = document.getElementById(outputId);\n",
              "  outputElement.innerHTML = '';\n",
              "\n",
              "  const pickedPromise = new Promise((resolve) => {\n",
              "    inputElement.addEventListener('change', (e) => {\n",
              "      resolve(e.target.files);\n",
              "    });\n",
              "  });\n",
              "\n",
              "  const cancel = document.createElement('button');\n",
              "  inputElement.parentElement.appendChild(cancel);\n",
              "  cancel.textContent = 'Cancel upload';\n",
              "  const cancelPromise = new Promise((resolve) => {\n",
              "    cancel.onclick = () => {\n",
              "      resolve(null);\n",
              "    };\n",
              "  });\n",
              "\n",
              "  // Wait for the user to pick the files.\n",
              "  const files = yield {\n",
              "    promise: Promise.race([pickedPromise, cancelPromise]),\n",
              "    response: {\n",
              "      action: 'starting',\n",
              "    }\n",
              "  };\n",
              "\n",
              "  cancel.remove();\n",
              "\n",
              "  // Disable the input element since further picks are not allowed.\n",
              "  inputElement.disabled = true;\n",
              "\n",
              "  if (!files) {\n",
              "    return {\n",
              "      response: {\n",
              "        action: 'complete',\n",
              "      }\n",
              "    };\n",
              "  }\n",
              "\n",
              "  for (const file of files) {\n",
              "    const li = document.createElement('li');\n",
              "    li.append(span(file.name, {fontWeight: 'bold'}));\n",
              "    li.append(span(\n",
              "        `(${file.type || 'n/a'}) - ${file.size} bytes, ` +\n",
              "        `last modified: ${\n",
              "            file.lastModifiedDate ? file.lastModifiedDate.toLocaleDateString() :\n",
              "                                    'n/a'} - `));\n",
              "    const percent = span('0% done');\n",
              "    li.appendChild(percent);\n",
              "\n",
              "    outputElement.appendChild(li);\n",
              "\n",
              "    const fileDataPromise = new Promise((resolve) => {\n",
              "      const reader = new FileReader();\n",
              "      reader.onload = (e) => {\n",
              "        resolve(e.target.result);\n",
              "      };\n",
              "      reader.readAsArrayBuffer(file);\n",
              "    });\n",
              "    // Wait for the data to be ready.\n",
              "    let fileData = yield {\n",
              "      promise: fileDataPromise,\n",
              "      response: {\n",
              "        action: 'continue',\n",
              "      }\n",
              "    };\n",
              "\n",
              "    // Use a chunked sending to avoid message size limits. See b/62115660.\n",
              "    let position = 0;\n",
              "    do {\n",
              "      const length = Math.min(fileData.byteLength - position, MAX_PAYLOAD_SIZE);\n",
              "      const chunk = new Uint8Array(fileData, position, length);\n",
              "      position += length;\n",
              "\n",
              "      const base64 = btoa(String.fromCharCode.apply(null, chunk));\n",
              "      yield {\n",
              "        response: {\n",
              "          action: 'append',\n",
              "          file: file.name,\n",
              "          data: base64,\n",
              "        },\n",
              "      };\n",
              "\n",
              "      let percentDone = fileData.byteLength === 0 ?\n",
              "          100 :\n",
              "          Math.round((position / fileData.byteLength) * 100);\n",
              "      percent.textContent = `${percentDone}% done`;\n",
              "\n",
              "    } while (position < fileData.byteLength);\n",
              "  }\n",
              "\n",
              "  // All done.\n",
              "  yield {\n",
              "    response: {\n",
              "      action: 'complete',\n",
              "    }\n",
              "  };\n",
              "}\n",
              "\n",
              "scope.google = scope.google || {};\n",
              "scope.google.colab = scope.google.colab || {};\n",
              "scope.google.colab._files = {\n",
              "  _uploadFiles,\n",
              "  _uploadFilesContinue,\n",
              "};\n",
              "})(self);\n",
              "</script> "
            ]
          },
          "metadata": {}
        },
        {
          "output_type": "stream",
          "name": "stdout",
          "text": [
            "Saving h8dsft_P0GC2_Monica-Pratiwi.csv to h8dsft_P0GC2_Monica-Pratiwi.csv\n"
          ]
        }
      ]
    },
    {
      "cell_type": "code",
      "source": [
        "df = pd.read_csv('h8dsft_P0GC2_Monica-Pratiwi.csv')"
      ],
      "metadata": {
        "id": "p_MGUSOlCP-R"
      },
      "execution_count": 3,
      "outputs": []
    },
    {
      "cell_type": "code",
      "source": [
        "df.head()"
      ],
      "metadata": {
        "colab": {
          "base_uri": "https://localhost:8080/",
          "height": 206
        },
        "id": "-VM_biM-CuF1",
        "outputId": "9f8f682c-f3a9-44cd-98a7-998814a6bfbd"
      },
      "execution_count": 4,
      "outputs": [
        {
          "output_type": "execute_result",
          "data": {
            "text/plain": [
              "  report_date                load_time load_type  load_weight dropoff_site\n",
              "0  2021-01-01  2021-01-01 12:00:00 UTC  SWEEPING          NaN  ONION CREEK\n",
              "1  2021-01-01  2021-01-01 12:00:00 UTC  SWEEPING          NaN  ONION CREEK\n",
              "2  2021-01-01  2021-01-01 12:00:00 UTC  SWEEPING          NaN  ONION CREEK\n",
              "3  2021-01-01  2021-01-01 12:00:00 UTC  SWEEPING          NaN  ONION CREEK\n",
              "4  2021-01-02  2021-01-02 09:24:00 UTC     TIRES       1640.0          MRF"
            ],
            "text/html": [
              "\n",
              "  <div id=\"df-fc9564b4-3b08-42c8-b8aa-815a64931aef\">\n",
              "    <div class=\"colab-df-container\">\n",
              "      <div>\n",
              "<style scoped>\n",
              "    .dataframe tbody tr th:only-of-type {\n",
              "        vertical-align: middle;\n",
              "    }\n",
              "\n",
              "    .dataframe tbody tr th {\n",
              "        vertical-align: top;\n",
              "    }\n",
              "\n",
              "    .dataframe thead th {\n",
              "        text-align: right;\n",
              "    }\n",
              "</style>\n",
              "<table border=\"1\" class=\"dataframe\">\n",
              "  <thead>\n",
              "    <tr style=\"text-align: right;\">\n",
              "      <th></th>\n",
              "      <th>report_date</th>\n",
              "      <th>load_time</th>\n",
              "      <th>load_type</th>\n",
              "      <th>load_weight</th>\n",
              "      <th>dropoff_site</th>\n",
              "    </tr>\n",
              "  </thead>\n",
              "  <tbody>\n",
              "    <tr>\n",
              "      <th>0</th>\n",
              "      <td>2021-01-01</td>\n",
              "      <td>2021-01-01 12:00:00 UTC</td>\n",
              "      <td>SWEEPING</td>\n",
              "      <td>NaN</td>\n",
              "      <td>ONION CREEK</td>\n",
              "    </tr>\n",
              "    <tr>\n",
              "      <th>1</th>\n",
              "      <td>2021-01-01</td>\n",
              "      <td>2021-01-01 12:00:00 UTC</td>\n",
              "      <td>SWEEPING</td>\n",
              "      <td>NaN</td>\n",
              "      <td>ONION CREEK</td>\n",
              "    </tr>\n",
              "    <tr>\n",
              "      <th>2</th>\n",
              "      <td>2021-01-01</td>\n",
              "      <td>2021-01-01 12:00:00 UTC</td>\n",
              "      <td>SWEEPING</td>\n",
              "      <td>NaN</td>\n",
              "      <td>ONION CREEK</td>\n",
              "    </tr>\n",
              "    <tr>\n",
              "      <th>3</th>\n",
              "      <td>2021-01-01</td>\n",
              "      <td>2021-01-01 12:00:00 UTC</td>\n",
              "      <td>SWEEPING</td>\n",
              "      <td>NaN</td>\n",
              "      <td>ONION CREEK</td>\n",
              "    </tr>\n",
              "    <tr>\n",
              "      <th>4</th>\n",
              "      <td>2021-01-02</td>\n",
              "      <td>2021-01-02 09:24:00 UTC</td>\n",
              "      <td>TIRES</td>\n",
              "      <td>1640.0</td>\n",
              "      <td>MRF</td>\n",
              "    </tr>\n",
              "  </tbody>\n",
              "</table>\n",
              "</div>\n",
              "      <button class=\"colab-df-convert\" onclick=\"convertToInteractive('df-fc9564b4-3b08-42c8-b8aa-815a64931aef')\"\n",
              "              title=\"Convert this dataframe to an interactive table.\"\n",
              "              style=\"display:none;\">\n",
              "        \n",
              "  <svg xmlns=\"http://www.w3.org/2000/svg\" height=\"24px\"viewBox=\"0 0 24 24\"\n",
              "       width=\"24px\">\n",
              "    <path d=\"M0 0h24v24H0V0z\" fill=\"none\"/>\n",
              "    <path d=\"M18.56 5.44l.94 2.06.94-2.06 2.06-.94-2.06-.94-.94-2.06-.94 2.06-2.06.94zm-11 1L8.5 8.5l.94-2.06 2.06-.94-2.06-.94L8.5 2.5l-.94 2.06-2.06.94zm10 10l.94 2.06.94-2.06 2.06-.94-2.06-.94-.94-2.06-.94 2.06-2.06.94z\"/><path d=\"M17.41 7.96l-1.37-1.37c-.4-.4-.92-.59-1.43-.59-.52 0-1.04.2-1.43.59L10.3 9.45l-7.72 7.72c-.78.78-.78 2.05 0 2.83L4 21.41c.39.39.9.59 1.41.59.51 0 1.02-.2 1.41-.59l7.78-7.78 2.81-2.81c.8-.78.8-2.07 0-2.86zM5.41 20L4 18.59l7.72-7.72 1.47 1.35L5.41 20z\"/>\n",
              "  </svg>\n",
              "      </button>\n",
              "      \n",
              "  <style>\n",
              "    .colab-df-container {\n",
              "      display:flex;\n",
              "      flex-wrap:wrap;\n",
              "      gap: 12px;\n",
              "    }\n",
              "\n",
              "    .colab-df-convert {\n",
              "      background-color: #E8F0FE;\n",
              "      border: none;\n",
              "      border-radius: 50%;\n",
              "      cursor: pointer;\n",
              "      display: none;\n",
              "      fill: #1967D2;\n",
              "      height: 32px;\n",
              "      padding: 0 0 0 0;\n",
              "      width: 32px;\n",
              "    }\n",
              "\n",
              "    .colab-df-convert:hover {\n",
              "      background-color: #E2EBFA;\n",
              "      box-shadow: 0px 1px 2px rgba(60, 64, 67, 0.3), 0px 1px 3px 1px rgba(60, 64, 67, 0.15);\n",
              "      fill: #174EA6;\n",
              "    }\n",
              "\n",
              "    [theme=dark] .colab-df-convert {\n",
              "      background-color: #3B4455;\n",
              "      fill: #D2E3FC;\n",
              "    }\n",
              "\n",
              "    [theme=dark] .colab-df-convert:hover {\n",
              "      background-color: #434B5C;\n",
              "      box-shadow: 0px 1px 3px 1px rgba(0, 0, 0, 0.15);\n",
              "      filter: drop-shadow(0px 1px 2px rgba(0, 0, 0, 0.3));\n",
              "      fill: #FFFFFF;\n",
              "    }\n",
              "  </style>\n",
              "\n",
              "      <script>\n",
              "        const buttonEl =\n",
              "          document.querySelector('#df-fc9564b4-3b08-42c8-b8aa-815a64931aef button.colab-df-convert');\n",
              "        buttonEl.style.display =\n",
              "          google.colab.kernel.accessAllowed ? 'block' : 'none';\n",
              "\n",
              "        async function convertToInteractive(key) {\n",
              "          const element = document.querySelector('#df-fc9564b4-3b08-42c8-b8aa-815a64931aef');\n",
              "          const dataTable =\n",
              "            await google.colab.kernel.invokeFunction('convertToInteractive',\n",
              "                                                     [key], {});\n",
              "          if (!dataTable) return;\n",
              "\n",
              "          const docLinkHtml = 'Like what you see? Visit the ' +\n",
              "            '<a target=\"_blank\" href=https://colab.research.google.com/notebooks/data_table.ipynb>data table notebook</a>'\n",
              "            + ' to learn more about interactive tables.';\n",
              "          element.innerHTML = '';\n",
              "          dataTable['output_type'] = 'display_data';\n",
              "          await google.colab.output.renderOutput(dataTable, element);\n",
              "          const docLink = document.createElement('div');\n",
              "          docLink.innerHTML = docLinkHtml;\n",
              "          element.appendChild(docLink);\n",
              "        }\n",
              "      </script>\n",
              "    </div>\n",
              "  </div>\n",
              "  "
            ]
          },
          "metadata": {},
          "execution_count": 4
        }
      ]
    },
    {
      "cell_type": "code",
      "source": [
        "df.tail()"
      ],
      "metadata": {
        "colab": {
          "base_uri": "https://localhost:8080/",
          "height": 206
        },
        "id": "Jc2xZMj6Cy9S",
        "outputId": "21360ddd-7ee7-4373-8c2f-25c7fde9fd19"
      },
      "execution_count": 5,
      "outputs": [
        {
          "output_type": "execute_result",
          "data": {
            "text/plain": [
              "      report_date                load_time load_type  load_weight  \\\n",
              "26152  2021-07-09  2021-07-09 09:48:00 UTC     BRUSH       8240.0   \n",
              "26153  2021-07-09  2021-07-09 12:02:00 UTC     BRUSH       4160.0   \n",
              "26154  2021-07-09  2021-07-09 11:55:00 UTC     BRUSH       4340.0   \n",
              "26155  2021-07-09  2021-07-09 12:00:00 UTC    LITTER       1900.0   \n",
              "26156  2021-07-09  2021-07-09 12:00:00 UTC    LITTER       3040.0   \n",
              "\n",
              "       dropoff_site  \n",
              "26152  HORNSBY BEND  \n",
              "26153  HORNSBY BEND  \n",
              "26154  HORNSBY BEND  \n",
              "26155  TDS LANDFILL  \n",
              "26156  TDS LANDFILL  "
            ],
            "text/html": [
              "\n",
              "  <div id=\"df-5371ff05-a070-4def-a16a-b4df0b8a8a65\">\n",
              "    <div class=\"colab-df-container\">\n",
              "      <div>\n",
              "<style scoped>\n",
              "    .dataframe tbody tr th:only-of-type {\n",
              "        vertical-align: middle;\n",
              "    }\n",
              "\n",
              "    .dataframe tbody tr th {\n",
              "        vertical-align: top;\n",
              "    }\n",
              "\n",
              "    .dataframe thead th {\n",
              "        text-align: right;\n",
              "    }\n",
              "</style>\n",
              "<table border=\"1\" class=\"dataframe\">\n",
              "  <thead>\n",
              "    <tr style=\"text-align: right;\">\n",
              "      <th></th>\n",
              "      <th>report_date</th>\n",
              "      <th>load_time</th>\n",
              "      <th>load_type</th>\n",
              "      <th>load_weight</th>\n",
              "      <th>dropoff_site</th>\n",
              "    </tr>\n",
              "  </thead>\n",
              "  <tbody>\n",
              "    <tr>\n",
              "      <th>26152</th>\n",
              "      <td>2021-07-09</td>\n",
              "      <td>2021-07-09 09:48:00 UTC</td>\n",
              "      <td>BRUSH</td>\n",
              "      <td>8240.0</td>\n",
              "      <td>HORNSBY BEND</td>\n",
              "    </tr>\n",
              "    <tr>\n",
              "      <th>26153</th>\n",
              "      <td>2021-07-09</td>\n",
              "      <td>2021-07-09 12:02:00 UTC</td>\n",
              "      <td>BRUSH</td>\n",
              "      <td>4160.0</td>\n",
              "      <td>HORNSBY BEND</td>\n",
              "    </tr>\n",
              "    <tr>\n",
              "      <th>26154</th>\n",
              "      <td>2021-07-09</td>\n",
              "      <td>2021-07-09 11:55:00 UTC</td>\n",
              "      <td>BRUSH</td>\n",
              "      <td>4340.0</td>\n",
              "      <td>HORNSBY BEND</td>\n",
              "    </tr>\n",
              "    <tr>\n",
              "      <th>26155</th>\n",
              "      <td>2021-07-09</td>\n",
              "      <td>2021-07-09 12:00:00 UTC</td>\n",
              "      <td>LITTER</td>\n",
              "      <td>1900.0</td>\n",
              "      <td>TDS LANDFILL</td>\n",
              "    </tr>\n",
              "    <tr>\n",
              "      <th>26156</th>\n",
              "      <td>2021-07-09</td>\n",
              "      <td>2021-07-09 12:00:00 UTC</td>\n",
              "      <td>LITTER</td>\n",
              "      <td>3040.0</td>\n",
              "      <td>TDS LANDFILL</td>\n",
              "    </tr>\n",
              "  </tbody>\n",
              "</table>\n",
              "</div>\n",
              "      <button class=\"colab-df-convert\" onclick=\"convertToInteractive('df-5371ff05-a070-4def-a16a-b4df0b8a8a65')\"\n",
              "              title=\"Convert this dataframe to an interactive table.\"\n",
              "              style=\"display:none;\">\n",
              "        \n",
              "  <svg xmlns=\"http://www.w3.org/2000/svg\" height=\"24px\"viewBox=\"0 0 24 24\"\n",
              "       width=\"24px\">\n",
              "    <path d=\"M0 0h24v24H0V0z\" fill=\"none\"/>\n",
              "    <path d=\"M18.56 5.44l.94 2.06.94-2.06 2.06-.94-2.06-.94-.94-2.06-.94 2.06-2.06.94zm-11 1L8.5 8.5l.94-2.06 2.06-.94-2.06-.94L8.5 2.5l-.94 2.06-2.06.94zm10 10l.94 2.06.94-2.06 2.06-.94-2.06-.94-.94-2.06-.94 2.06-2.06.94z\"/><path d=\"M17.41 7.96l-1.37-1.37c-.4-.4-.92-.59-1.43-.59-.52 0-1.04.2-1.43.59L10.3 9.45l-7.72 7.72c-.78.78-.78 2.05 0 2.83L4 21.41c.39.39.9.59 1.41.59.51 0 1.02-.2 1.41-.59l7.78-7.78 2.81-2.81c.8-.78.8-2.07 0-2.86zM5.41 20L4 18.59l7.72-7.72 1.47 1.35L5.41 20z\"/>\n",
              "  </svg>\n",
              "      </button>\n",
              "      \n",
              "  <style>\n",
              "    .colab-df-container {\n",
              "      display:flex;\n",
              "      flex-wrap:wrap;\n",
              "      gap: 12px;\n",
              "    }\n",
              "\n",
              "    .colab-df-convert {\n",
              "      background-color: #E8F0FE;\n",
              "      border: none;\n",
              "      border-radius: 50%;\n",
              "      cursor: pointer;\n",
              "      display: none;\n",
              "      fill: #1967D2;\n",
              "      height: 32px;\n",
              "      padding: 0 0 0 0;\n",
              "      width: 32px;\n",
              "    }\n",
              "\n",
              "    .colab-df-convert:hover {\n",
              "      background-color: #E2EBFA;\n",
              "      box-shadow: 0px 1px 2px rgba(60, 64, 67, 0.3), 0px 1px 3px 1px rgba(60, 64, 67, 0.15);\n",
              "      fill: #174EA6;\n",
              "    }\n",
              "\n",
              "    [theme=dark] .colab-df-convert {\n",
              "      background-color: #3B4455;\n",
              "      fill: #D2E3FC;\n",
              "    }\n",
              "\n",
              "    [theme=dark] .colab-df-convert:hover {\n",
              "      background-color: #434B5C;\n",
              "      box-shadow: 0px 1px 3px 1px rgba(0, 0, 0, 0.15);\n",
              "      filter: drop-shadow(0px 1px 2px rgba(0, 0, 0, 0.3));\n",
              "      fill: #FFFFFF;\n",
              "    }\n",
              "  </style>\n",
              "\n",
              "      <script>\n",
              "        const buttonEl =\n",
              "          document.querySelector('#df-5371ff05-a070-4def-a16a-b4df0b8a8a65 button.colab-df-convert');\n",
              "        buttonEl.style.display =\n",
              "          google.colab.kernel.accessAllowed ? 'block' : 'none';\n",
              "\n",
              "        async function convertToInteractive(key) {\n",
              "          const element = document.querySelector('#df-5371ff05-a070-4def-a16a-b4df0b8a8a65');\n",
              "          const dataTable =\n",
              "            await google.colab.kernel.invokeFunction('convertToInteractive',\n",
              "                                                     [key], {});\n",
              "          if (!dataTable) return;\n",
              "\n",
              "          const docLinkHtml = 'Like what you see? Visit the ' +\n",
              "            '<a target=\"_blank\" href=https://colab.research.google.com/notebooks/data_table.ipynb>data table notebook</a>'\n",
              "            + ' to learn more about interactive tables.';\n",
              "          element.innerHTML = '';\n",
              "          dataTable['output_type'] = 'display_data';\n",
              "          await google.colab.output.renderOutput(dataTable, element);\n",
              "          const docLink = document.createElement('div');\n",
              "          docLink.innerHTML = docLinkHtml;\n",
              "          element.appendChild(docLink);\n",
              "        }\n",
              "      </script>\n",
              "    </div>\n",
              "  </div>\n",
              "  "
            ]
          },
          "metadata": {},
          "execution_count": 5
        }
      ]
    },
    {
      "cell_type": "markdown",
      "source": [
        "Di dalam `h8dsft_P0GC2_Monica-Pratiwi.csv` terdapat kolom-kolom berikut:\n",
        "\n",
        "Header | Definisi\n",
        "---|---\n",
        "`report_date` | Tanggal laporan/Pengambilan data\n",
        "`load_time` | Waktu pengangkutan\n",
        "`load_type` | Jenis barang yang diangkut\n",
        "`load_weight` | Berat barang yang diangkut\n",
        "`dropoff_site` | Lokasi pembuangan"
      ],
      "metadata": {
        "id": "-m2b-kArEpIa"
      }
    },
    {
      "cell_type": "markdown",
      "source": [
        "### Memeriksa Missing Values"
      ],
      "metadata": {
        "id": "TtJpKN1WM0pi"
      }
    },
    {
      "cell_type": "code",
      "source": [
        "df.info()"
      ],
      "metadata": {
        "colab": {
          "base_uri": "https://localhost:8080/"
        },
        "id": "voDF_3dDDIud",
        "outputId": "8a26acf0-1b0c-4290-e98d-bfaae77bb819"
      },
      "execution_count": 6,
      "outputs": [
        {
          "output_type": "stream",
          "name": "stdout",
          "text": [
            "<class 'pandas.core.frame.DataFrame'>\n",
            "RangeIndex: 26157 entries, 0 to 26156\n",
            "Data columns (total 5 columns):\n",
            " #   Column        Non-Null Count  Dtype  \n",
            "---  ------        --------------  -----  \n",
            " 0   report_date   26157 non-null  object \n",
            " 1   load_time     26157 non-null  object \n",
            " 2   load_type     26157 non-null  object \n",
            " 3   load_weight   25109 non-null  float64\n",
            " 4   dropoff_site  26157 non-null  object \n",
            "dtypes: float64(1), object(4)\n",
            "memory usage: 1021.9+ KB\n"
          ]
        }
      ]
    },
    {
      "cell_type": "markdown",
      "source": [
        "Terdapat 1048 data null (kosong/tidak terisi) pada kolom load_weight. Data null perlu diberikan perlakuan khusus agar pengolahan data dapat dilanjutkan. Penanganan *missing values* dilakukan dengan menentukan Nilai Pengganti (*Imputation*). Metode fillna() dapat digunakan untuk mengganti *missing values* dengan nilai yang sudah ditentukan. Cara yang paling sederhana adalah menggunakan mean, median, atau modus sebagai nilai pengganti. Untuk menentukan nilai pengganti yang tepat di antara tiga pilihan tersebut, dapat diketahui dengan mencari nilai kecondongan dari grafik."
      ],
      "metadata": {
        "id": "tvFc7bEYEqM0"
      }
    },
    {
      "cell_type": "code",
      "source": [
        "# Importing scipy\n",
        "import scipy"
      ],
      "metadata": {
        "id": "ZwWvDoFdGSPR"
      },
      "execution_count": 7,
      "outputs": []
    },
    {
      "cell_type": "code",
      "source": [
        "# Importing library\n",
        "from scipy.stats import skew\n",
        "%matplotlib inline\n",
        "from matplotlib import pyplot as plt\n",
        "import scipy.stats as stats\n",
        "\n",
        "#Skewness dan Kurtosis\n",
        "skewness = \"skewness: \" + str (df[\"load_weight\"].skew())\n",
        "kurtosis = \"kurtosis: \" + str (df[\"load_weight\"].kurt())\n",
        "print(skewness)\n",
        "print(kurtosis)\n"
      ],
      "metadata": {
        "colab": {
          "base_uri": "https://localhost:8080/"
        },
        "id": "_zgoWMMsDYc3",
        "outputId": "a03138b7-f9d3-4b7b-feb5-8c93e0c26f34"
      },
      "execution_count": 8,
      "outputs": [
        {
          "output_type": "stream",
          "name": "stdout",
          "text": [
            "skewness: 3.335938213321684\n",
            "kurtosis: 84.19097541413656\n"
          ]
        }
      ]
    },
    {
      "cell_type": "markdown",
      "source": [
        "Data `load_weight` memiliki nilai Skewness > 0, artinya data tersebut memiliki ekor yang lebih panjang ke kanan sehingga data disebut condong ke kanan atau ***right-skewed***. Ketika data memiliki kecondongan, sebaiknya menggunakan nilai median untuk mengganti nilai yang hilang. Untuk distribusi yang memiliki kurtosis > 3 yang artinya data memiliki banyak *outlier* dan tidak terdistribusi normal."
      ],
      "metadata": {
        "id": "4NdKddxEIHwW"
      }
    },
    {
      "cell_type": "code",
      "source": [
        "# make a copy\n",
        "awd = df.copy()"
      ],
      "metadata": {
        "id": "eHtE0uG1Nc8n"
      },
      "execution_count": 9,
      "outputs": []
    },
    {
      "cell_type": "code",
      "source": [
        "# change the missing values with median\n",
        "awd['load_weight'].fillna(awd['load_weight'].median(), inplace=True)\n",
        "\t"
      ],
      "metadata": {
        "id": "5y_JdibXW7Fm"
      },
      "execution_count": 10,
      "outputs": []
    },
    {
      "cell_type": "code",
      "source": [
        "awd.info()"
      ],
      "metadata": {
        "colab": {
          "base_uri": "https://localhost:8080/"
        },
        "id": "Ez5ZxmTseKzq",
        "outputId": "6adeda25-0dde-4d1f-96c4-459a22e90bc1"
      },
      "execution_count": 11,
      "outputs": [
        {
          "output_type": "stream",
          "name": "stdout",
          "text": [
            "<class 'pandas.core.frame.DataFrame'>\n",
            "RangeIndex: 26157 entries, 0 to 26156\n",
            "Data columns (total 5 columns):\n",
            " #   Column        Non-Null Count  Dtype  \n",
            "---  ------        --------------  -----  \n",
            " 0   report_date   26157 non-null  object \n",
            " 1   load_time     26157 non-null  object \n",
            " 2   load_type     26157 non-null  object \n",
            " 3   load_weight   26157 non-null  float64\n",
            " 4   dropoff_site  26157 non-null  object \n",
            "dtypes: float64(1), object(4)\n",
            "memory usage: 1021.9+ KB\n"
          ]
        }
      ]
    },
    {
      "cell_type": "markdown",
      "source": [
        "### Eksplorasi Data"
      ],
      "metadata": {
        "id": "ekR9XGWLgJSS"
      }
    },
    {
      "cell_type": "code",
      "source": [
        "# Import Libraty\n",
        "import datetime"
      ],
      "metadata": {
        "id": "g1spRO0gpxhJ"
      },
      "execution_count": 12,
      "outputs": []
    },
    {
      "cell_type": "code",
      "source": [
        "# Waktu pengumpulan data\n",
        "awd[\"report_date\"] = pd.to_datetime(awd[\"report_date\"]) \n",
        "date_range = \"date range: \" + str(awd[\"report_date\"].dt.date.min()) + \" to \" +str(awd[\"report_date\"].dt.date.max())\n",
        "print(date_range)"
      ],
      "metadata": {
        "colab": {
          "base_uri": "https://localhost:8080/"
        },
        "id": "e9kmQEH1GStx",
        "outputId": "b0633b19-6b59-441a-bc87-d5c82db6ea2f"
      },
      "execution_count": 13,
      "outputs": [
        {
          "output_type": "stream",
          "name": "stdout",
          "text": [
            "date range: 2021-01-01 to 2021-07-09\n"
          ]
        }
      ]
    },
    {
      "cell_type": "markdown",
      "source": [
        "Data dikumpulkan setiap hari dimulai pada awal tahun 2021 tanggal 1 Januari hingga 9 Juli 2021."
      ],
      "metadata": {
        "id": "8bdtAlGujJ-V"
      }
    },
    {
      "cell_type": "code",
      "source": [
        "# Tipe load sampah di kota Austin\n",
        "awd[\"load_type\"].value_counts()"
      ],
      "metadata": {
        "colab": {
          "base_uri": "https://localhost:8080/"
        },
        "id": "W__tTWw0mCKG",
        "outputId": "e34c021f-9f66-4792-a552-f3df49ff6645"
      },
      "execution_count": 14,
      "outputs": [
        {
          "output_type": "execute_result",
          "data": {
            "text/plain": [
              "GARBAGE COLLECTIONS          8242\n",
              "RECYCLING - SINGLE STREAM    6760\n",
              "ORGANICS                     5763\n",
              "BULK                         1594\n",
              "BRUSH                        1517\n",
              "SWEEPING                     1390\n",
              "MIXED LITTER                  329\n",
              "TIRES                         175\n",
              "DEAD ANIMAL                   150\n",
              "YARD TRIMMING                 137\n",
              "RECYCLED METAL                 57\n",
              "LITTER                         41\n",
              "CONTAMINATED RECYCLING          1\n",
              "CONTAMINATED ORGANICS           1\n",
              "Name: load_type, dtype: int64"
            ]
          },
          "metadata": {},
          "execution_count": 14
        }
      ]
    },
    {
      "cell_type": "markdown",
      "source": [
        "Terdapat 14 jenis limbah yang diangkut ke tempat pembuangan akhir dengan yang terbanyak adalah \"Garbage Collection\" dan yang paling sedikit adalah \"Contaminated Organics\"."
      ],
      "metadata": {
        "id": "EXvLwCzmjbf8"
      }
    },
    {
      "cell_type": "code",
      "source": [
        "# Lokasi tempat pembuangan sampah\n",
        "awd.groupby(\"dropoff_site\").size()"
      ],
      "metadata": {
        "colab": {
          "base_uri": "https://localhost:8080/"
        },
        "id": "s6qqcoTSn9FA",
        "outputId": "c232c5bc-95b6-4ada-a4d1-1fea088d18e6"
      },
      "execution_count": 17,
      "outputs": [
        {
          "output_type": "execute_result",
          "data": {
            "text/plain": [
              "dropoff_site\n",
              "AUSTIN IRON AND METAL       50\n",
              "AUSTIN WOOD RECYCLING        2\n",
              "BALCONES RECYCLING        3837\n",
              "BALCONES WOODS               1\n",
              "GREAT NORTHERN              70\n",
              "HORNSBY BEND              1655\n",
              "MRF                        168\n",
              "ON ROUTE HIGH DUMP          81\n",
              "ONION CREEK                813\n",
              "ORGANICS BY GOSH          5755\n",
              "PARK BEND                    4\n",
              "PARK CENTER                 75\n",
              "ST. EDWARDS                  1\n",
              "STEINER LANDFILL             1\n",
              "TDS - MRF                 2948\n",
              "TDS LANDFILL             10694\n",
              "WESTFIELD                    1\n",
              "WILCAB                       1\n",
              "dtype: int64"
            ]
          },
          "metadata": {},
          "execution_count": 17
        }
      ]
    },
    {
      "cell_type": "markdown",
      "source": [
        "Terdapat 18 lokasi tempat pembuangan akhir di kota Austin untuk menampung limbah-limbah."
      ],
      "metadata": {
        "id": "qF-9BWcokEuK"
      }
    },
    {
      "cell_type": "markdown",
      "source": [
        "### Central Tendency"
      ],
      "metadata": {
        "id": "8dETm9u2RZNH"
      }
    },
    {
      "cell_type": "code",
      "source": [
        "# Mean\n",
        "mean = awd.groupby(\"dropoff_site\")[\"load_weight\"].mean()\n",
        "mean"
      ],
      "metadata": {
        "colab": {
          "base_uri": "https://localhost:8080/"
        },
        "id": "TRBaFg8tjKCw",
        "outputId": "347ebf2c-081a-4e5e-b572-d33f9fdf2551"
      },
      "execution_count": 18,
      "outputs": [
        {
          "output_type": "execute_result",
          "data": {
            "text/plain": [
              "dropoff_site\n",
              "AUSTIN IRON AND METAL      451.200000\n",
              "AUSTIN WOOD RECYCLING     4050.000000\n",
              "BALCONES RECYCLING        9464.652072\n",
              "BALCONES WOODS            8460.000000\n",
              "GREAT NORTHERN           11973.142857\n",
              "HORNSBY BEND              6637.111782\n",
              "MRF                       1799.982143\n",
              "ON ROUTE HIGH DUMP       11405.925926\n",
              "ONION CREEK              11300.000000\n",
              "ORGANICS BY GOSH         11817.220851\n",
              "PARK BEND                13385.000000\n",
              "PARK CENTER              11300.000000\n",
              "ST. EDWARDS              11300.000000\n",
              "STEINER LANDFILL           780.000000\n",
              "TDS - MRF                 9872.550882\n",
              "TDS LANDFILL             15168.321726\n",
              "WESTFIELD                16020.000000\n",
              "WILCAB                   11300.000000\n",
              "Name: load_weight, dtype: float64"
            ]
          },
          "metadata": {},
          "execution_count": 18
        }
      ]
    },
    {
      "cell_type": "code",
      "source": [
        "# Median\n",
        "median = awd.groupby('dropoff_site')[\"load_weight\"].median()\n",
        "median"
      ],
      "metadata": {
        "id": "6S1e91YaPUQ8",
        "colab": {
          "base_uri": "https://localhost:8080/"
        },
        "outputId": "859c6856-76d1-407f-ce18-b0500424703e"
      },
      "execution_count": 19,
      "outputs": [
        {
          "output_type": "execute_result",
          "data": {
            "text/plain": [
              "dropoff_site\n",
              "AUSTIN IRON AND METAL      400.0\n",
              "AUSTIN WOOD RECYCLING     4050.0\n",
              "BALCONES RECYCLING        9840.0\n",
              "BALCONES WOODS            8460.0\n",
              "GREAT NORTHERN           11300.0\n",
              "HORNSBY BEND              6400.0\n",
              "MRF                       1360.0\n",
              "ON ROUTE HIGH DUMP       11300.0\n",
              "ONION CREEK              11300.0\n",
              "ORGANICS BY GOSH         11900.0\n",
              "PARK BEND                12330.0\n",
              "PARK CENTER              11300.0\n",
              "ST. EDWARDS              11300.0\n",
              "STEINER LANDFILL           780.0\n",
              "TDS - MRF                10330.0\n",
              "TDS LANDFILL             14920.0\n",
              "WESTFIELD                16020.0\n",
              "WILCAB                   11300.0\n",
              "Name: load_weight, dtype: float64"
            ]
          },
          "metadata": {},
          "execution_count": 19
        }
      ]
    },
    {
      "cell_type": "code",
      "source": [
        "# Mode\n",
        "mode = awd.groupby([\"dropoff_site\"])[\"load_weight\"].apply(pd.Series.mode)\n",
        "mode"
      ],
      "metadata": {
        "colab": {
          "base_uri": "https://localhost:8080/"
        },
        "id": "hbqaRv_mn7-W",
        "outputId": "d5cd3a45-8f1e-4fca-a772-5ccbd98feb01"
      },
      "execution_count": 20,
      "outputs": [
        {
          "output_type": "execute_result",
          "data": {
            "text/plain": [
              "dropoff_site            \n",
              "AUSTIN IRON AND METAL  0      260.0\n",
              "                       1      320.0\n",
              "                       2      520.0\n",
              "AUSTIN WOOD RECYCLING  0     2340.0\n",
              "                       1     5760.0\n",
              "BALCONES RECYCLING     0    11880.0\n",
              "BALCONES WOODS         0     8460.0\n",
              "GREAT NORTHERN         0    11300.0\n",
              "HORNSBY BEND           0     5500.0\n",
              "MRF                    0      960.0\n",
              "ON ROUTE HIGH DUMP     0    11300.0\n",
              "ONION CREEK            0    11300.0\n",
              "ORGANICS BY GOSH       0    11300.0\n",
              "PARK BEND              0     8480.0\n",
              "                       1     8960.0\n",
              "                       2    15700.0\n",
              "                       3    20400.0\n",
              "PARK CENTER            0    11300.0\n",
              "ST. EDWARDS            0    11300.0\n",
              "STEINER LANDFILL       0      780.0\n",
              "TDS - MRF              0    10360.0\n",
              "TDS LANDFILL           0       20.0\n",
              "                       1       60.0\n",
              "                       2    12020.0\n",
              "WESTFIELD              0    16020.0\n",
              "WILCAB                 0    11300.0\n",
              "Name: load_weight, dtype: float64"
            ]
          },
          "metadata": {},
          "execution_count": 20
        }
      ]
    },
    {
      "cell_type": "markdown",
      "source": [
        "terdapat beberapa lokasi dengan nilai mean, median, dan mode yang sama: balcones wood, great nothern, on route high dump, onion creek, park center, st. edwards, steiner landfill, westfield, wilcab. In a perfectly symmetrical, non-skewed distribution the mean, median and mode are equal. As distributions become more skewed the difference between these different measures of central tendency gets larger. MRF merupakan lokasi pilihan dengan jarak antara mean, median, dan modus yang tidak terlalu berdekatan. "
      ],
      "metadata": {
        "id": "-7cePKXWGUDh"
      }
    },
    {
      "cell_type": "code",
      "source": [
        "# Choosing Location\n",
        "mrf = awd[awd[\"dropoff_site\"] == \"MRF\"]\n",
        "mrf"
      ],
      "metadata": {
        "colab": {
          "base_uri": "https://localhost:8080/",
          "height": 424
        },
        "id": "BpLJC_ToR2iE",
        "outputId": "f9f07ec6-cc89-4fec-91d0-314260d1ff0e"
      },
      "execution_count": 21,
      "outputs": [
        {
          "output_type": "execute_result",
          "data": {
            "text/plain": [
              "      report_date                load_time load_type  load_weight dropoff_site\n",
              "4      2021-01-02  2021-01-02 09:24:00 UTC     TIRES       1640.0          MRF\n",
              "5      2021-01-02  2021-01-02 11:47:00 UTC     TIRES        940.0          MRF\n",
              "564    2021-01-06  2021-01-06 12:49:00 UTC     TIRES         40.0          MRF\n",
              "565    2021-01-06  2021-01-06 03:30:00 UTC     TIRES        100.0          MRF\n",
              "749    2021-01-07  2021-01-07 12:17:00 UTC     TIRES       1440.0          MRF\n",
              "...           ...                      ...       ...          ...          ...\n",
              "25862  2021-07-07  2021-07-07 11:40:00 UTC     TIRES        340.0          MRF\n",
              "26008  2021-07-08  2021-07-08 12:00:00 UTC     TIRES       2260.0          MRF\n",
              "26009  2021-07-08  2021-07-08 11:00:00 UTC     TIRES       1260.0          MRF\n",
              "26010  2021-07-08  2021-07-08 03:00:00 UTC     TIRES        800.0          MRF\n",
              "26011  2021-07-08  2021-07-09 12:00:00 UTC     TIRES        560.0          MRF\n",
              "\n",
              "[168 rows x 5 columns]"
            ],
            "text/html": [
              "\n",
              "  <div id=\"df-82e364c4-835e-4f2f-b72b-baf55250000c\">\n",
              "    <div class=\"colab-df-container\">\n",
              "      <div>\n",
              "<style scoped>\n",
              "    .dataframe tbody tr th:only-of-type {\n",
              "        vertical-align: middle;\n",
              "    }\n",
              "\n",
              "    .dataframe tbody tr th {\n",
              "        vertical-align: top;\n",
              "    }\n",
              "\n",
              "    .dataframe thead th {\n",
              "        text-align: right;\n",
              "    }\n",
              "</style>\n",
              "<table border=\"1\" class=\"dataframe\">\n",
              "  <thead>\n",
              "    <tr style=\"text-align: right;\">\n",
              "      <th></th>\n",
              "      <th>report_date</th>\n",
              "      <th>load_time</th>\n",
              "      <th>load_type</th>\n",
              "      <th>load_weight</th>\n",
              "      <th>dropoff_site</th>\n",
              "    </tr>\n",
              "  </thead>\n",
              "  <tbody>\n",
              "    <tr>\n",
              "      <th>4</th>\n",
              "      <td>2021-01-02</td>\n",
              "      <td>2021-01-02 09:24:00 UTC</td>\n",
              "      <td>TIRES</td>\n",
              "      <td>1640.0</td>\n",
              "      <td>MRF</td>\n",
              "    </tr>\n",
              "    <tr>\n",
              "      <th>5</th>\n",
              "      <td>2021-01-02</td>\n",
              "      <td>2021-01-02 11:47:00 UTC</td>\n",
              "      <td>TIRES</td>\n",
              "      <td>940.0</td>\n",
              "      <td>MRF</td>\n",
              "    </tr>\n",
              "    <tr>\n",
              "      <th>564</th>\n",
              "      <td>2021-01-06</td>\n",
              "      <td>2021-01-06 12:49:00 UTC</td>\n",
              "      <td>TIRES</td>\n",
              "      <td>40.0</td>\n",
              "      <td>MRF</td>\n",
              "    </tr>\n",
              "    <tr>\n",
              "      <th>565</th>\n",
              "      <td>2021-01-06</td>\n",
              "      <td>2021-01-06 03:30:00 UTC</td>\n",
              "      <td>TIRES</td>\n",
              "      <td>100.0</td>\n",
              "      <td>MRF</td>\n",
              "    </tr>\n",
              "    <tr>\n",
              "      <th>749</th>\n",
              "      <td>2021-01-07</td>\n",
              "      <td>2021-01-07 12:17:00 UTC</td>\n",
              "      <td>TIRES</td>\n",
              "      <td>1440.0</td>\n",
              "      <td>MRF</td>\n",
              "    </tr>\n",
              "    <tr>\n",
              "      <th>...</th>\n",
              "      <td>...</td>\n",
              "      <td>...</td>\n",
              "      <td>...</td>\n",
              "      <td>...</td>\n",
              "      <td>...</td>\n",
              "    </tr>\n",
              "    <tr>\n",
              "      <th>25862</th>\n",
              "      <td>2021-07-07</td>\n",
              "      <td>2021-07-07 11:40:00 UTC</td>\n",
              "      <td>TIRES</td>\n",
              "      <td>340.0</td>\n",
              "      <td>MRF</td>\n",
              "    </tr>\n",
              "    <tr>\n",
              "      <th>26008</th>\n",
              "      <td>2021-07-08</td>\n",
              "      <td>2021-07-08 12:00:00 UTC</td>\n",
              "      <td>TIRES</td>\n",
              "      <td>2260.0</td>\n",
              "      <td>MRF</td>\n",
              "    </tr>\n",
              "    <tr>\n",
              "      <th>26009</th>\n",
              "      <td>2021-07-08</td>\n",
              "      <td>2021-07-08 11:00:00 UTC</td>\n",
              "      <td>TIRES</td>\n",
              "      <td>1260.0</td>\n",
              "      <td>MRF</td>\n",
              "    </tr>\n",
              "    <tr>\n",
              "      <th>26010</th>\n",
              "      <td>2021-07-08</td>\n",
              "      <td>2021-07-08 03:00:00 UTC</td>\n",
              "      <td>TIRES</td>\n",
              "      <td>800.0</td>\n",
              "      <td>MRF</td>\n",
              "    </tr>\n",
              "    <tr>\n",
              "      <th>26011</th>\n",
              "      <td>2021-07-08</td>\n",
              "      <td>2021-07-09 12:00:00 UTC</td>\n",
              "      <td>TIRES</td>\n",
              "      <td>560.0</td>\n",
              "      <td>MRF</td>\n",
              "    </tr>\n",
              "  </tbody>\n",
              "</table>\n",
              "<p>168 rows × 5 columns</p>\n",
              "</div>\n",
              "      <button class=\"colab-df-convert\" onclick=\"convertToInteractive('df-82e364c4-835e-4f2f-b72b-baf55250000c')\"\n",
              "              title=\"Convert this dataframe to an interactive table.\"\n",
              "              style=\"display:none;\">\n",
              "        \n",
              "  <svg xmlns=\"http://www.w3.org/2000/svg\" height=\"24px\"viewBox=\"0 0 24 24\"\n",
              "       width=\"24px\">\n",
              "    <path d=\"M0 0h24v24H0V0z\" fill=\"none\"/>\n",
              "    <path d=\"M18.56 5.44l.94 2.06.94-2.06 2.06-.94-2.06-.94-.94-2.06-.94 2.06-2.06.94zm-11 1L8.5 8.5l.94-2.06 2.06-.94-2.06-.94L8.5 2.5l-.94 2.06-2.06.94zm10 10l.94 2.06.94-2.06 2.06-.94-2.06-.94-.94-2.06-.94 2.06-2.06.94z\"/><path d=\"M17.41 7.96l-1.37-1.37c-.4-.4-.92-.59-1.43-.59-.52 0-1.04.2-1.43.59L10.3 9.45l-7.72 7.72c-.78.78-.78 2.05 0 2.83L4 21.41c.39.39.9.59 1.41.59.51 0 1.02-.2 1.41-.59l7.78-7.78 2.81-2.81c.8-.78.8-2.07 0-2.86zM5.41 20L4 18.59l7.72-7.72 1.47 1.35L5.41 20z\"/>\n",
              "  </svg>\n",
              "      </button>\n",
              "      \n",
              "  <style>\n",
              "    .colab-df-container {\n",
              "      display:flex;\n",
              "      flex-wrap:wrap;\n",
              "      gap: 12px;\n",
              "    }\n",
              "\n",
              "    .colab-df-convert {\n",
              "      background-color: #E8F0FE;\n",
              "      border: none;\n",
              "      border-radius: 50%;\n",
              "      cursor: pointer;\n",
              "      display: none;\n",
              "      fill: #1967D2;\n",
              "      height: 32px;\n",
              "      padding: 0 0 0 0;\n",
              "      width: 32px;\n",
              "    }\n",
              "\n",
              "    .colab-df-convert:hover {\n",
              "      background-color: #E2EBFA;\n",
              "      box-shadow: 0px 1px 2px rgba(60, 64, 67, 0.3), 0px 1px 3px 1px rgba(60, 64, 67, 0.15);\n",
              "      fill: #174EA6;\n",
              "    }\n",
              "\n",
              "    [theme=dark] .colab-df-convert {\n",
              "      background-color: #3B4455;\n",
              "      fill: #D2E3FC;\n",
              "    }\n",
              "\n",
              "    [theme=dark] .colab-df-convert:hover {\n",
              "      background-color: #434B5C;\n",
              "      box-shadow: 0px 1px 3px 1px rgba(0, 0, 0, 0.15);\n",
              "      filter: drop-shadow(0px 1px 2px rgba(0, 0, 0, 0.3));\n",
              "      fill: #FFFFFF;\n",
              "    }\n",
              "  </style>\n",
              "\n",
              "      <script>\n",
              "        const buttonEl =\n",
              "          document.querySelector('#df-82e364c4-835e-4f2f-b72b-baf55250000c button.colab-df-convert');\n",
              "        buttonEl.style.display =\n",
              "          google.colab.kernel.accessAllowed ? 'block' : 'none';\n",
              "\n",
              "        async function convertToInteractive(key) {\n",
              "          const element = document.querySelector('#df-82e364c4-835e-4f2f-b72b-baf55250000c');\n",
              "          const dataTable =\n",
              "            await google.colab.kernel.invokeFunction('convertToInteractive',\n",
              "                                                     [key], {});\n",
              "          if (!dataTable) return;\n",
              "\n",
              "          const docLinkHtml = 'Like what you see? Visit the ' +\n",
              "            '<a target=\"_blank\" href=https://colab.research.google.com/notebooks/data_table.ipynb>data table notebook</a>'\n",
              "            + ' to learn more about interactive tables.';\n",
              "          element.innerHTML = '';\n",
              "          dataTable['output_type'] = 'display_data';\n",
              "          await google.colab.output.renderOutput(dataTable, element);\n",
              "          const docLink = document.createElement('div');\n",
              "          docLink.innerHTML = docLinkHtml;\n",
              "          element.appendChild(docLink);\n",
              "        }\n",
              "      </script>\n",
              "    </div>\n",
              "  </div>\n",
              "  "
            ]
          },
          "metadata": {},
          "execution_count": 21
        }
      ]
    },
    {
      "cell_type": "markdown",
      "source": [
        "### Outlier"
      ],
      "metadata": {
        "id": "eTaCceY6Y9q2"
      }
    },
    {
      "cell_type": "code",
      "source": [
        "# Membuat DataFrame baru untuk MRF\n",
        "mrf1 = pd.DataFrame(mrf)"
      ],
      "metadata": {
        "id": "WGf0cgl_ZdBC"
      },
      "execution_count": 22,
      "outputs": []
    },
    {
      "cell_type": "code",
      "source": [
        "# Central Tendency sebelum outlier dibersihkan\n",
        "print ('Min: ' + str(mrf1[\"load_weight\"].min()))\n",
        "print ('Mode: ' + str(mrf1[\"load_weight\"].mode()[0]))\n",
        "print ('Median: ' + str(mrf1[\"load_weight\"].median()))\n",
        "print ('Mean: ' + str(mrf1[\"load_weight\"].mean()))\n",
        "print ('Max: ' + str(mrf1[\"load_weight\"].max()))"
      ],
      "metadata": {
        "colab": {
          "base_uri": "https://localhost:8080/"
        },
        "id": "2ILuFScRlfnn",
        "outputId": "5e979412-e115-4a36-9864-f84ecbacc791"
      },
      "execution_count": 23,
      "outputs": [
        {
          "output_type": "stream",
          "name": "stdout",
          "text": [
            "Min: 40.0\n",
            "Mode: 960.0\n",
            "Median: 1360.0\n",
            "Mean: 1799.982142857143\n",
            "Max: 17500.0\n"
          ]
        }
      ]
    },
    {
      "cell_type": "markdown",
      "source": [
        "Mendeteksi outlier dengan boxplot dan distribution plot"
      ],
      "metadata": {
        "id": "KTyHtO-50ovr"
      }
    },
    {
      "cell_type": "code",
      "source": [
        "import seaborn as sns"
      ],
      "metadata": {
        "id": "KPLMEm2ii4P5"
      },
      "execution_count": 15,
      "outputs": []
    },
    {
      "cell_type": "code",
      "source": [
        "# Box plot\n",
        "sns.boxplot(x=mrf1[\"load_weight\"])"
      ],
      "metadata": {
        "id": "5Y2pd97UpS6x",
        "colab": {
          "base_uri": "https://localhost:8080/",
          "height": 298
        },
        "outputId": "f5f5f928-9e0d-4cd9-801e-990a2924354d"
      },
      "execution_count": 24,
      "outputs": [
        {
          "output_type": "execute_result",
          "data": {
            "text/plain": [
              "<matplotlib.axes._subplots.AxesSubplot at 0x7fba26415e90>"
            ]
          },
          "metadata": {},
          "execution_count": 24
        },
        {
          "output_type": "display_data",
          "data": {
            "text/plain": [
              "<Figure size 432x288 with 1 Axes>"
            ],
            "image/png": "[encoded data removed]"
          },
          "metadata": {
            "needs_background": "light"
          }
        }
      ]
    },
    {
      "cell_type": "code",
      "source": [
        "# Distribution plot\n",
        "sns.displot(mrf1.load_weight)"
      ],
      "metadata": {
        "colab": {
          "base_uri": "https://localhost:8080/",
          "height": 387
        },
        "id": "Nfm1cFg1onBW",
        "outputId": "0d10912b-8765-49d4-b08a-33eddd0f8232"
      },
      "execution_count": 24,
      "outputs": [
        {
          "output_type": "execute_result",
          "data": {
            "text/plain": [
              "<seaborn.axisgrid.FacetGrid at 0x7f446cf1c1d0>"
            ]
          },
          "metadata": {},
          "execution_count": 24
        },
        {
          "output_type": "display_data",
          "data": {
            "text/plain": [
              "<Figure size 360x360 with 1 Axes>"
            ],
            "image/png": "[encoded data removed]"
          },
          "metadata": {
            "needs_background": "light"
          }
        }
      ]
    },
    {
      "cell_type": "markdown",
      "source": [
        "From the boxplot, we can see that based on Tukey's rule, this data have outliers. Dapat terlihat juga berdasarkan distribusi data bahwa data ini memiliki kecondongan ke kanan dan sudah terlihat adanya *outlier*. Untuk memastikan lebih lanjut, digunakan Turkey Formula.\n",
        "\n",
        "**The formula for Tukey outlier detection**\n",
        "\n",
        "upper bound = ${q_{3}+1.5*IQR}$\n",
        "\n",
        "lower bound = ${q_{1}-1.5*IQR}$\n",
        "\n",
        "Langkah-langkah yang dilakukan adalah sebagai berikut"
      ],
      "metadata": {
        "id": "GCcfvL-rnSQe"
      }
    },
    {
      "cell_type": "code",
      "source": [
        "# Mengurutkan DataFrame\n",
        "mrf1.sort_values(by=[\"load_weight\"], inplace=True)"
      ],
      "metadata": {
        "id": "xE23K3srZBuo"
      },
      "execution_count": 25,
      "outputs": []
    },
    {
      "cell_type": "code",
      "source": [
        "mrf1"
      ],
      "metadata": {
        "colab": {
          "base_uri": "https://localhost:8080/",
          "height": 424
        },
        "id": "YYZYNx-SbQhJ",
        "outputId": "f31c2aca-712d-4c33-f061-be2c7f7a55a1"
      },
      "execution_count": 63,
      "outputs": [
        {
          "output_type": "execute_result",
          "data": {
            "text/plain": [
              "      report_date                load_time load_type  load_weight dropoff_site\n",
              "564    2021-01-06  2021-01-06 12:49:00 UTC     TIRES         40.0          MRF\n",
              "565    2021-01-06  2021-01-06 03:30:00 UTC     TIRES        100.0          MRF\n",
              "20521  2021-05-27  2021-05-27 03:14:00 UTC     TIRES        120.0          MRF\n",
              "15076  2021-04-19  2021-04-19 03:03:00 UTC     TIRES        160.0          MRF\n",
              "4487   2021-02-04  2021-02-04 12:31:00 UTC     TIRES        160.0          MRF\n",
              "...           ...                      ...       ...          ...          ...\n",
              "13982  2021-04-12  2021-04-12 04:30:00 UTC     TIRES       6000.0          MRF\n",
              "15908  2021-04-23  2021-04-23 11:12:00 UTC      BULK      12420.0          MRF\n",
              "5038   2021-02-09  2021-02-09 12:00:00 UTC     TIRES      13800.0          MRF\n",
              "2230   2021-01-19  2021-01-19 08:43:00 UTC      BULK      15080.0          MRF\n",
              "5226   2021-02-10  2021-02-10 12:00:00 UTC     TIRES      17500.0          MRF\n",
              "\n",
              "[168 rows x 5 columns]"
            ],
            "text/html": [
              "\n",
              "  <div id=\"df-2ca0373b-a325-4916-974f-5ca7ddeb914f\">\n",
              "    <div class=\"colab-df-container\">\n",
              "      <div>\n",
              "<style scoped>\n",
              "    .dataframe tbody tr th:only-of-type {\n",
              "        vertical-align: middle;\n",
              "    }\n",
              "\n",
              "    .dataframe tbody tr th {\n",
              "        vertical-align: top;\n",
              "    }\n",
              "\n",
              "    .dataframe thead th {\n",
              "        text-align: right;\n",
              "    }\n",
              "</style>\n",
              "<table border=\"1\" class=\"dataframe\">\n",
              "  <thead>\n",
              "    <tr style=\"text-align: right;\">\n",
              "      <th></th>\n",
              "      <th>report_date</th>\n",
              "      <th>load_time</th>\n",
              "      <th>load_type</th>\n",
              "      <th>load_weight</th>\n",
              "      <th>dropoff_site</th>\n",
              "    </tr>\n",
              "  </thead>\n",
              "  <tbody>\n",
              "    <tr>\n",
              "      <th>564</th>\n",
              "      <td>2021-01-06</td>\n",
              "      <td>2021-01-06 12:49:00 UTC</td>\n",
              "      <td>TIRES</td>\n",
              "      <td>40.0</td>\n",
              "      <td>MRF</td>\n",
              "    </tr>\n",
              "    <tr>\n",
              "      <th>565</th>\n",
              "      <td>2021-01-06</td>\n",
              "      <td>2021-01-06 03:30:00 UTC</td>\n",
              "      <td>TIRES</td>\n",
              "      <td>100.0</td>\n",
              "      <td>MRF</td>\n",
              "    </tr>\n",
              "    <tr>\n",
              "      <th>20521</th>\n",
              "      <td>2021-05-27</td>\n",
              "      <td>2021-05-27 03:14:00 UTC</td>\n",
              "      <td>TIRES</td>\n",
              "      <td>120.0</td>\n",
              "      <td>MRF</td>\n",
              "    </tr>\n",
              "    <tr>\n",
              "      <th>15076</th>\n",
              "      <td>2021-04-19</td>\n",
              "      <td>2021-04-19 03:03:00 UTC</td>\n",
              "      <td>TIRES</td>\n",
              "      <td>160.0</td>\n",
              "      <td>MRF</td>\n",
              "    </tr>\n",
              "    <tr>\n",
              "      <th>4487</th>\n",
              "      <td>2021-02-04</td>\n",
              "      <td>2021-02-04 12:31:00 UTC</td>\n",
              "      <td>TIRES</td>\n",
              "      <td>160.0</td>\n",
              "      <td>MRF</td>\n",
              "    </tr>\n",
              "    <tr>\n",
              "      <th>...</th>\n",
              "      <td>...</td>\n",
              "      <td>...</td>\n",
              "      <td>...</td>\n",
              "      <td>...</td>\n",
              "      <td>...</td>\n",
              "    </tr>\n",
              "    <tr>\n",
              "      <th>13982</th>\n",
              "      <td>2021-04-12</td>\n",
              "      <td>2021-04-12 04:30:00 UTC</td>\n",
              "      <td>TIRES</td>\n",
              "      <td>6000.0</td>\n",
              "      <td>MRF</td>\n",
              "    </tr>\n",
              "    <tr>\n",
              "      <th>15908</th>\n",
              "      <td>2021-04-23</td>\n",
              "      <td>2021-04-23 11:12:00 UTC</td>\n",
              "      <td>BULK</td>\n",
              "      <td>12420.0</td>\n",
              "      <td>MRF</td>\n",
              "    </tr>\n",
              "    <tr>\n",
              "      <th>5038</th>\n",
              "      <td>2021-02-09</td>\n",
              "      <td>2021-02-09 12:00:00 UTC</td>\n",
              "      <td>TIRES</td>\n",
              "      <td>13800.0</td>\n",
              "      <td>MRF</td>\n",
              "    </tr>\n",
              "    <tr>\n",
              "      <th>2230</th>\n",
              "      <td>2021-01-19</td>\n",
              "      <td>2021-01-19 08:43:00 UTC</td>\n",
              "      <td>BULK</td>\n",
              "      <td>15080.0</td>\n",
              "      <td>MRF</td>\n",
              "    </tr>\n",
              "    <tr>\n",
              "      <th>5226</th>\n",
              "      <td>2021-02-10</td>\n",
              "      <td>2021-02-10 12:00:00 UTC</td>\n",
              "      <td>TIRES</td>\n",
              "      <td>17500.0</td>\n",
              "      <td>MRF</td>\n",
              "    </tr>\n",
              "  </tbody>\n",
              "</table>\n",
              "<p>168 rows × 5 columns</p>\n",
              "</div>\n",
              "      <button class=\"colab-df-convert\" onclick=\"convertToInteractive('df-2ca0373b-a325-4916-974f-5ca7ddeb914f')\"\n",
              "              title=\"Convert this dataframe to an interactive table.\"\n",
              "              style=\"display:none;\">\n",
              "        \n",
              "  <svg xmlns=\"http://www.w3.org/2000/svg\" height=\"24px\"viewBox=\"0 0 24 24\"\n",
              "       width=\"24px\">\n",
              "    <path d=\"M0 0h24v24H0V0z\" fill=\"none\"/>\n",
              "    <path d=\"M18.56 5.44l.94 2.06.94-2.06 2.06-.94-2.06-.94-.94-2.06-.94 2.06-2.06.94zm-11 1L8.5 8.5l.94-2.06 2.06-.94-2.06-.94L8.5 2.5l-.94 2.06-2.06.94zm10 10l.94 2.06.94-2.06 2.06-.94-2.06-.94-.94-2.06-.94 2.06-2.06.94z\"/><path d=\"M17.41 7.96l-1.37-1.37c-.4-.4-.92-.59-1.43-.59-.52 0-1.04.2-1.43.59L10.3 9.45l-7.72 7.72c-.78.78-.78 2.05 0 2.83L4 21.41c.39.39.9.59 1.41.59.51 0 1.02-.2 1.41-.59l7.78-7.78 2.81-2.81c.8-.78.8-2.07 0-2.86zM5.41 20L4 18.59l7.72-7.72 1.47 1.35L5.41 20z\"/>\n",
              "  </svg>\n",
              "      </button>\n",
              "      \n",
              "  <style>\n",
              "    .colab-df-container {\n",
              "      display:flex;\n",
              "      flex-wrap:wrap;\n",
              "      gap: 12px;\n",
              "    }\n",
              "\n",
              "    .colab-df-convert {\n",
              "      background-color: #E8F0FE;\n",
              "      border: none;\n",
              "      border-radius: 50%;\n",
              "      cursor: pointer;\n",
              "      display: none;\n",
              "      fill: #1967D2;\n",
              "      height: 32px;\n",
              "      padding: 0 0 0 0;\n",
              "      width: 32px;\n",
              "    }\n",
              "\n",
              "    .colab-df-convert:hover {\n",
              "      background-color: #E2EBFA;\n",
              "      box-shadow: 0px 1px 2px rgba(60, 64, 67, 0.3), 0px 1px 3px 1px rgba(60, 64, 67, 0.15);\n",
              "      fill: #174EA6;\n",
              "    }\n",
              "\n",
              "    [theme=dark] .colab-df-convert {\n",
              "      background-color: #3B4455;\n",
              "      fill: #D2E3FC;\n",
              "    }\n",
              "\n",
              "    [theme=dark] .colab-df-convert:hover {\n",
              "      background-color: #434B5C;\n",
              "      box-shadow: 0px 1px 3px 1px rgba(0, 0, 0, 0.15);\n",
              "      filter: drop-shadow(0px 1px 2px rgba(0, 0, 0, 0.3));\n",
              "      fill: #FFFFFF;\n",
              "    }\n",
              "  </style>\n",
              "\n",
              "      <script>\n",
              "        const buttonEl =\n",
              "          document.querySelector('#df-2ca0373b-a325-4916-974f-5ca7ddeb914f button.colab-df-convert');\n",
              "        buttonEl.style.display =\n",
              "          google.colab.kernel.accessAllowed ? 'block' : 'none';\n",
              "\n",
              "        async function convertToInteractive(key) {\n",
              "          const element = document.querySelector('#df-2ca0373b-a325-4916-974f-5ca7ddeb914f');\n",
              "          const dataTable =\n",
              "            await google.colab.kernel.invokeFunction('convertToInteractive',\n",
              "                                                     [key], {});\n",
              "          if (!dataTable) return;\n",
              "\n",
              "          const docLinkHtml = 'Like what you see? Visit the ' +\n",
              "            '<a target=\"_blank\" href=https://colab.research.google.com/notebooks/data_table.ipynb>data table notebook</a>'\n",
              "            + ' to learn more about interactive tables.';\n",
              "          element.innerHTML = '';\n",
              "          dataTable['output_type'] = 'display_data';\n",
              "          await google.colab.output.renderOutput(dataTable, element);\n",
              "          const docLink = document.createElement('div');\n",
              "          docLink.innerHTML = docLinkHtml;\n",
              "          element.appendChild(docLink);\n",
              "        }\n",
              "      </script>\n",
              "    </div>\n",
              "  </div>\n",
              "  "
            ]
          },
          "metadata": {},
          "execution_count": 63
        }
      ]
    },
    {
      "cell_type": "code",
      "source": [
        "# Mencari nilai kuartil 3 (q75) dan kuartil 1 (q25)\n",
        "q75,q25= np.percentile(mrf1.load_weight,[75,25])\n",
        "q75,q25"
      ],
      "metadata": {
        "colab": {
          "base_uri": "https://localhost:8080/"
        },
        "id": "aAXeoeUda_ZR",
        "outputId": "201a3f09-0523-4a21-f043-978ea73466f0"
      },
      "execution_count": 26,
      "outputs": [
        {
          "output_type": "execute_result",
          "data": {
            "text/plain": [
              "(2180.0, 740.0)"
            ]
          },
          "metadata": {},
          "execution_count": 26
        }
      ]
    },
    {
      "cell_type": "code",
      "source": [
        "# Mencari nilai iqr\n",
        "intr_qr = q75 - q25\n",
        "intr_qr"
      ],
      "metadata": {
        "colab": {
          "base_uri": "https://localhost:8080/"
        },
        "id": "ffjASQFabfch",
        "outputId": "f187a4b5-63e0-4ca3-84c9-839c5922a2bf"
      },
      "execution_count": 27,
      "outputs": [
        {
          "output_type": "execute_result",
          "data": {
            "text/plain": [
              "1440.0"
            ]
          },
          "metadata": {},
          "execution_count": 27
        }
      ]
    },
    {
      "cell_type": "code",
      "source": [
        "# Mencari nilai lower bound dan upper bound\n",
        "upper = q75 +(1.5 * intr_qr)\n",
        "lower = q25 -(1.5 * intr_qr) \n",
        "upper,lower"
      ],
      "metadata": {
        "colab": {
          "base_uri": "https://localhost:8080/"
        },
        "id": "PoJIqs__b_rU",
        "outputId": "e3c6110a-c2eb-4b3c-e53e-2344f772df66"
      },
      "execution_count": 28,
      "outputs": [
        {
          "output_type": "execute_result",
          "data": {
            "text/plain": [
              "(4340.0, -1420.0)"
            ]
          },
          "metadata": {},
          "execution_count": 28
        }
      ]
    },
    {
      "cell_type": "markdown",
      "source": [
        "Diperoleh nilai lower bound adalah -1420 dan upper bound sebesar 4340. Nilai *load_weight* yang berada di luar dari kedua nilai tersebut (<-1420 atau >4340) adalah outlier. "
      ],
      "metadata": {
        "id": "7qU4ah8Vc-Oi"
      }
    },
    {
      "cell_type": "code",
      "source": [
        "# Handling Outlier, mengosongkan nilai outlier\n",
        "for x in [\"load_weight\"]:\n",
        "    q75,q25 = np.percentile(mrf1.loc[:,x],[75,25])\n",
        "    intr_qr = q75-q25\n",
        " \n",
        "    upper = q75+(1.5*intr_qr)\n",
        "    lower = q25-(1.5*intr_qr)\n",
        " \n",
        "    mrf1.loc[mrf1[x] < lower,x] = np.nan\n",
        "    mrf1.loc[mrf1[x] > upper,x] = np.nan"
      ],
      "metadata": {
        "id": "n1AdO5aUv-du"
      },
      "execution_count": 30,
      "outputs": []
    },
    {
      "cell_type": "code",
      "source": [
        "mrf1"
      ],
      "metadata": {
        "colab": {
          "base_uri": "https://localhost:8080/",
          "height": 424
        },
        "id": "IhKwi7KgxULG",
        "outputId": "de860ae4-3925-4cdc-be64-c729def032c1"
      },
      "execution_count": 31,
      "outputs": [
        {
          "output_type": "execute_result",
          "data": {
            "text/plain": [
              "      report_date                load_time load_type  load_weight dropoff_site\n",
              "564    2021-01-06  2021-01-06 12:49:00 UTC     TIRES         40.0          MRF\n",
              "565    2021-01-06  2021-01-06 03:30:00 UTC     TIRES        100.0          MRF\n",
              "20521  2021-05-27  2021-05-27 03:14:00 UTC     TIRES        120.0          MRF\n",
              "15076  2021-04-19  2021-04-19 03:03:00 UTC     TIRES        160.0          MRF\n",
              "4487   2021-02-04  2021-02-04 12:31:00 UTC     TIRES        160.0          MRF\n",
              "...           ...                      ...       ...          ...          ...\n",
              "13982  2021-04-12  2021-04-12 04:30:00 UTC     TIRES          NaN          MRF\n",
              "15908  2021-04-23  2021-04-23 11:12:00 UTC      BULK          NaN          MRF\n",
              "5038   2021-02-09  2021-02-09 12:00:00 UTC     TIRES          NaN          MRF\n",
              "2230   2021-01-19  2021-01-19 08:43:00 UTC      BULK          NaN          MRF\n",
              "5226   2021-02-10  2021-02-10 12:00:00 UTC     TIRES          NaN          MRF\n",
              "\n",
              "[168 rows x 5 columns]"
            ],
            "text/html": [
              "\n",
              "  <div id=\"df-136db7dc-81d2-4910-a3ad-9a7f5c54c243\">\n",
              "    <div class=\"colab-df-container\">\n",
              "      <div>\n",
              "<style scoped>\n",
              "    .dataframe tbody tr th:only-of-type {\n",
              "        vertical-align: middle;\n",
              "    }\n",
              "\n",
              "    .dataframe tbody tr th {\n",
              "        vertical-align: top;\n",
              "    }\n",
              "\n",
              "    .dataframe thead th {\n",
              "        text-align: right;\n",
              "    }\n",
              "</style>\n",
              "<table border=\"1\" class=\"dataframe\">\n",
              "  <thead>\n",
              "    <tr style=\"text-align: right;\">\n",
              "      <th></th>\n",
              "      <th>report_date</th>\n",
              "      <th>load_time</th>\n",
              "      <th>load_type</th>\n",
              "      <th>load_weight</th>\n",
              "      <th>dropoff_site</th>\n",
              "    </tr>\n",
              "  </thead>\n",
              "  <tbody>\n",
              "    <tr>\n",
              "      <th>564</th>\n",
              "      <td>2021-01-06</td>\n",
              "      <td>2021-01-06 12:49:00 UTC</td>\n",
              "      <td>TIRES</td>\n",
              "      <td>40.0</td>\n",
              "      <td>MRF</td>\n",
              "    </tr>\n",
              "    <tr>\n",
              "      <th>565</th>\n",
              "      <td>2021-01-06</td>\n",
              "      <td>2021-01-06 03:30:00 UTC</td>\n",
              "      <td>TIRES</td>\n",
              "      <td>100.0</td>\n",
              "      <td>MRF</td>\n",
              "    </tr>\n",
              "    <tr>\n",
              "      <th>20521</th>\n",
              "      <td>2021-05-27</td>\n",
              "      <td>2021-05-27 03:14:00 UTC</td>\n",
              "      <td>TIRES</td>\n",
              "      <td>120.0</td>\n",
              "      <td>MRF</td>\n",
              "    </tr>\n",
              "    <tr>\n",
              "      <th>15076</th>\n",
              "      <td>2021-04-19</td>\n",
              "      <td>2021-04-19 03:03:00 UTC</td>\n",
              "      <td>TIRES</td>\n",
              "      <td>160.0</td>\n",
              "      <td>MRF</td>\n",
              "    </tr>\n",
              "    <tr>\n",
              "      <th>4487</th>\n",
              "      <td>2021-02-04</td>\n",
              "      <td>2021-02-04 12:31:00 UTC</td>\n",
              "      <td>TIRES</td>\n",
              "      <td>160.0</td>\n",
              "      <td>MRF</td>\n",
              "    </tr>\n",
              "    <tr>\n",
              "      <th>...</th>\n",
              "      <td>...</td>\n",
              "      <td>...</td>\n",
              "      <td>...</td>\n",
              "      <td>...</td>\n",
              "      <td>...</td>\n",
              "    </tr>\n",
              "    <tr>\n",
              "      <th>13982</th>\n",
              "      <td>2021-04-12</td>\n",
              "      <td>2021-04-12 04:30:00 UTC</td>\n",
              "      <td>TIRES</td>\n",
              "      <td>NaN</td>\n",
              "      <td>MRF</td>\n",
              "    </tr>\n",
              "    <tr>\n",
              "      <th>15908</th>\n",
              "      <td>2021-04-23</td>\n",
              "      <td>2021-04-23 11:12:00 UTC</td>\n",
              "      <td>BULK</td>\n",
              "      <td>NaN</td>\n",
              "      <td>MRF</td>\n",
              "    </tr>\n",
              "    <tr>\n",
              "      <th>5038</th>\n",
              "      <td>2021-02-09</td>\n",
              "      <td>2021-02-09 12:00:00 UTC</td>\n",
              "      <td>TIRES</td>\n",
              "      <td>NaN</td>\n",
              "      <td>MRF</td>\n",
              "    </tr>\n",
              "    <tr>\n",
              "      <th>2230</th>\n",
              "      <td>2021-01-19</td>\n",
              "      <td>2021-01-19 08:43:00 UTC</td>\n",
              "      <td>BULK</td>\n",
              "      <td>NaN</td>\n",
              "      <td>MRF</td>\n",
              "    </tr>\n",
              "    <tr>\n",
              "      <th>5226</th>\n",
              "      <td>2021-02-10</td>\n",
              "      <td>2021-02-10 12:00:00 UTC</td>\n",
              "      <td>TIRES</td>\n",
              "      <td>NaN</td>\n",
              "      <td>MRF</td>\n",
              "    </tr>\n",
              "  </tbody>\n",
              "</table>\n",
              "<p>168 rows × 5 columns</p>\n",
              "</div>\n",
              "      <button class=\"colab-df-convert\" onclick=\"convertToInteractive('df-136db7dc-81d2-4910-a3ad-9a7f5c54c243')\"\n",
              "              title=\"Convert this dataframe to an interactive table.\"\n",
              "              style=\"display:none;\">\n",
              "        \n",
              "  <svg xmlns=\"http://www.w3.org/2000/svg\" height=\"24px\"viewBox=\"0 0 24 24\"\n",
              "       width=\"24px\">\n",
              "    <path d=\"M0 0h24v24H0V0z\" fill=\"none\"/>\n",
              "    <path d=\"M18.56 5.44l.94 2.06.94-2.06 2.06-.94-2.06-.94-.94-2.06-.94 2.06-2.06.94zm-11 1L8.5 8.5l.94-2.06 2.06-.94-2.06-.94L8.5 2.5l-.94 2.06-2.06.94zm10 10l.94 2.06.94-2.06 2.06-.94-2.06-.94-.94-2.06-.94 2.06-2.06.94z\"/><path d=\"M17.41 7.96l-1.37-1.37c-.4-.4-.92-.59-1.43-.59-.52 0-1.04.2-1.43.59L10.3 9.45l-7.72 7.72c-.78.78-.78 2.05 0 2.83L4 21.41c.39.39.9.59 1.41.59.51 0 1.02-.2 1.41-.59l7.78-7.78 2.81-2.81c.8-.78.8-2.07 0-2.86zM5.41 20L4 18.59l7.72-7.72 1.47 1.35L5.41 20z\"/>\n",
              "  </svg>\n",
              "      </button>\n",
              "      \n",
              "  <style>\n",
              "    .colab-df-container {\n",
              "      display:flex;\n",
              "      flex-wrap:wrap;\n",
              "      gap: 12px;\n",
              "    }\n",
              "\n",
              "    .colab-df-convert {\n",
              "      background-color: #E8F0FE;\n",
              "      border: none;\n",
              "      border-radius: 50%;\n",
              "      cursor: pointer;\n",
              "      display: none;\n",
              "      fill: #1967D2;\n",
              "      height: 32px;\n",
              "      padding: 0 0 0 0;\n",
              "      width: 32px;\n",
              "    }\n",
              "\n",
              "    .colab-df-convert:hover {\n",
              "      background-color: #E2EBFA;\n",
              "      box-shadow: 0px 1px 2px rgba(60, 64, 67, 0.3), 0px 1px 3px 1px rgba(60, 64, 67, 0.15);\n",
              "      fill: #174EA6;\n",
              "    }\n",
              "\n",
              "    [theme=dark] .colab-df-convert {\n",
              "      background-color: #3B4455;\n",
              "      fill: #D2E3FC;\n",
              "    }\n",
              "\n",
              "    [theme=dark] .colab-df-convert:hover {\n",
              "      background-color: #434B5C;\n",
              "      box-shadow: 0px 1px 3px 1px rgba(0, 0, 0, 0.15);\n",
              "      filter: drop-shadow(0px 1px 2px rgba(0, 0, 0, 0.3));\n",
              "      fill: #FFFFFF;\n",
              "    }\n",
              "  </style>\n",
              "\n",
              "      <script>\n",
              "        const buttonEl =\n",
              "          document.querySelector('#df-136db7dc-81d2-4910-a3ad-9a7f5c54c243 button.colab-df-convert');\n",
              "        buttonEl.style.display =\n",
              "          google.colab.kernel.accessAllowed ? 'block' : 'none';\n",
              "\n",
              "        async function convertToInteractive(key) {\n",
              "          const element = document.querySelector('#df-136db7dc-81d2-4910-a3ad-9a7f5c54c243');\n",
              "          const dataTable =\n",
              "            await google.colab.kernel.invokeFunction('convertToInteractive',\n",
              "                                                     [key], {});\n",
              "          if (!dataTable) return;\n",
              "\n",
              "          const docLinkHtml = 'Like what you see? Visit the ' +\n",
              "            '<a target=\"_blank\" href=https://colab.research.google.com/notebooks/data_table.ipynb>data table notebook</a>'\n",
              "            + ' to learn more about interactive tables.';\n",
              "          element.innerHTML = '';\n",
              "          dataTable['output_type'] = 'display_data';\n",
              "          await google.colab.output.renderOutput(dataTable, element);\n",
              "          const docLink = document.createElement('div');\n",
              "          docLink.innerHTML = docLinkHtml;\n",
              "          element.appendChild(docLink);\n",
              "        }\n",
              "      </script>\n",
              "    </div>\n",
              "  </div>\n",
              "  "
            ]
          },
          "metadata": {},
          "execution_count": 31
        }
      ]
    },
    {
      "cell_type": "code",
      "source": [
        "# Memeriksa nilai Skewness dan Kurtosis\n",
        "skewness = \"skewness: \" + str (mrf1[\"load_weight\"].skew())\n",
        "kurtosis = \"kurtosis: \" + str (mrf1[\"load_weight\"].kurt())\n",
        "print(skewness)\n",
        "print(kurtosis)"
      ],
      "metadata": {
        "colab": {
          "base_uri": "https://localhost:8080/"
        },
        "id": "-da5HBa42tMW",
        "outputId": "34b1962a-1e27-4153-f1e1-b67245bf1228"
      },
      "execution_count": 32,
      "outputs": [
        {
          "output_type": "stream",
          "name": "stdout",
          "text": [
            "skewness: 0.5598739613810221\n",
            "kurtosis: -0.3619499024708457\n"
          ]
        }
      ]
    },
    {
      "cell_type": "markdown",
      "source": [
        "Data `load_weight` memiliki nilai Skewness < 0 dan kurtosis < 3 yang artinya data terdistribusi normal. Nilai null dapat diatasi dengan melakukan imputasi dengan nilai mean. Pemilihan metode penanganan outliers dengan imputasi dilakukan dengan tujuan untuk menghindari kebocoran data karena data yang bersifat time-series."
      ],
      "metadata": {
        "id": "1GNgHUOm34lS"
      }
    },
    {
      "cell_type": "code",
      "source": [
        "# change the nulls with mean\n",
        "mrf1['load_weight'].fillna(mrf1['load_weight'].mean(), inplace=True)\n",
        "\t"
      ],
      "metadata": {
        "id": "4AwpBbkZ4o_8"
      },
      "execution_count": 33,
      "outputs": []
    },
    {
      "cell_type": "code",
      "source": [
        "mrf1"
      ],
      "metadata": {
        "colab": {
          "base_uri": "https://localhost:8080/",
          "height": 424
        },
        "id": "jF_Q_F554y-t",
        "outputId": "6cd95a02-73a0-4026-a864-373d3be9f0f4"
      },
      "execution_count": 34,
      "outputs": [
        {
          "output_type": "execute_result",
          "data": {
            "text/plain": [
              "      report_date                load_time load_type  load_weight dropoff_site\n",
              "564    2021-01-06  2021-01-06 12:49:00 UTC     TIRES    40.000000          MRF\n",
              "565    2021-01-06  2021-01-06 03:30:00 UTC     TIRES   100.000000          MRF\n",
              "20521  2021-05-27  2021-05-27 03:14:00 UTC     TIRES   120.000000          MRF\n",
              "15076  2021-04-19  2021-04-19 03:03:00 UTC     TIRES   160.000000          MRF\n",
              "4487   2021-02-04  2021-02-04 12:31:00 UTC     TIRES   160.000000          MRF\n",
              "...           ...                      ...       ...          ...          ...\n",
              "13982  2021-04-12  2021-04-12 04:30:00 UTC     TIRES  1419.049689          MRF\n",
              "15908  2021-04-23  2021-04-23 11:12:00 UTC      BULK  1419.049689          MRF\n",
              "5038   2021-02-09  2021-02-09 12:00:00 UTC     TIRES  1419.049689          MRF\n",
              "2230   2021-01-19  2021-01-19 08:43:00 UTC      BULK  1419.049689          MRF\n",
              "5226   2021-02-10  2021-02-10 12:00:00 UTC     TIRES  1419.049689          MRF\n",
              "\n",
              "[168 rows x 5 columns]"
            ],
            "text/html": [
              "\n",
              "  <div id=\"df-6d7ef2df-2d18-4efe-a8f0-617d20b4d237\">\n",
              "    <div class=\"colab-df-container\">\n",
              "      <div>\n",
              "<style scoped>\n",
              "    .dataframe tbody tr th:only-of-type {\n",
              "        vertical-align: middle;\n",
              "    }\n",
              "\n",
              "    .dataframe tbody tr th {\n",
              "        vertical-align: top;\n",
              "    }\n",
              "\n",
              "    .dataframe thead th {\n",
              "        text-align: right;\n",
              "    }\n",
              "</style>\n",
              "<table border=\"1\" class=\"dataframe\">\n",
              "  <thead>\n",
              "    <tr style=\"text-align: right;\">\n",
              "      <th></th>\n",
              "      <th>report_date</th>\n",
              "      <th>load_time</th>\n",
              "      <th>load_type</th>\n",
              "      <th>load_weight</th>\n",
              "      <th>dropoff_site</th>\n",
              "    </tr>\n",
              "  </thead>\n",
              "  <tbody>\n",
              "    <tr>\n",
              "      <th>564</th>\n",
              "      <td>2021-01-06</td>\n",
              "      <td>2021-01-06 12:49:00 UTC</td>\n",
              "      <td>TIRES</td>\n",
              "      <td>40.000000</td>\n",
              "      <td>MRF</td>\n",
              "    </tr>\n",
              "    <tr>\n",
              "      <th>565</th>\n",
              "      <td>2021-01-06</td>\n",
              "      <td>2021-01-06 03:30:00 UTC</td>\n",
              "      <td>TIRES</td>\n",
              "      <td>100.000000</td>\n",
              "      <td>MRF</td>\n",
              "    </tr>\n",
              "    <tr>\n",
              "      <th>20521</th>\n",
              "      <td>2021-05-27</td>\n",
              "      <td>2021-05-27 03:14:00 UTC</td>\n",
              "      <td>TIRES</td>\n",
              "      <td>120.000000</td>\n",
              "      <td>MRF</td>\n",
              "    </tr>\n",
              "    <tr>\n",
              "      <th>15076</th>\n",
              "      <td>2021-04-19</td>\n",
              "      <td>2021-04-19 03:03:00 UTC</td>\n",
              "      <td>TIRES</td>\n",
              "      <td>160.000000</td>\n",
              "      <td>MRF</td>\n",
              "    </tr>\n",
              "    <tr>\n",
              "      <th>4487</th>\n",
              "      <td>2021-02-04</td>\n",
              "      <td>2021-02-04 12:31:00 UTC</td>\n",
              "      <td>TIRES</td>\n",
              "      <td>160.000000</td>\n",
              "      <td>MRF</td>\n",
              "    </tr>\n",
              "    <tr>\n",
              "      <th>...</th>\n",
              "      <td>...</td>\n",
              "      <td>...</td>\n",
              "      <td>...</td>\n",
              "      <td>...</td>\n",
              "      <td>...</td>\n",
              "    </tr>\n",
              "    <tr>\n",
              "      <th>13982</th>\n",
              "      <td>2021-04-12</td>\n",
              "      <td>2021-04-12 04:30:00 UTC</td>\n",
              "      <td>TIRES</td>\n",
              "      <td>1419.049689</td>\n",
              "      <td>MRF</td>\n",
              "    </tr>\n",
              "    <tr>\n",
              "      <th>15908</th>\n",
              "      <td>2021-04-23</td>\n",
              "      <td>2021-04-23 11:12:00 UTC</td>\n",
              "      <td>BULK</td>\n",
              "      <td>1419.049689</td>\n",
              "      <td>MRF</td>\n",
              "    </tr>\n",
              "    <tr>\n",
              "      <th>5038</th>\n",
              "      <td>2021-02-09</td>\n",
              "      <td>2021-02-09 12:00:00 UTC</td>\n",
              "      <td>TIRES</td>\n",
              "      <td>1419.049689</td>\n",
              "      <td>MRF</td>\n",
              "    </tr>\n",
              "    <tr>\n",
              "      <th>2230</th>\n",
              "      <td>2021-01-19</td>\n",
              "      <td>2021-01-19 08:43:00 UTC</td>\n",
              "      <td>BULK</td>\n",
              "      <td>1419.049689</td>\n",
              "      <td>MRF</td>\n",
              "    </tr>\n",
              "    <tr>\n",
              "      <th>5226</th>\n",
              "      <td>2021-02-10</td>\n",
              "      <td>2021-02-10 12:00:00 UTC</td>\n",
              "      <td>TIRES</td>\n",
              "      <td>1419.049689</td>\n",
              "      <td>MRF</td>\n",
              "    </tr>\n",
              "  </tbody>\n",
              "</table>\n",
              "<p>168 rows × 5 columns</p>\n",
              "</div>\n",
              "      <button class=\"colab-df-convert\" onclick=\"convertToInteractive('df-6d7ef2df-2d18-4efe-a8f0-617d20b4d237')\"\n",
              "              title=\"Convert this dataframe to an interactive table.\"\n",
              "              style=\"display:none;\">\n",
              "        \n",
              "  <svg xmlns=\"http://www.w3.org/2000/svg\" height=\"24px\"viewBox=\"0 0 24 24\"\n",
              "       width=\"24px\">\n",
              "    <path d=\"M0 0h24v24H0V0z\" fill=\"none\"/>\n",
              "    <path d=\"M18.56 5.44l.94 2.06.94-2.06 2.06-.94-2.06-.94-.94-2.06-.94 2.06-2.06.94zm-11 1L8.5 8.5l.94-2.06 2.06-.94-2.06-.94L8.5 2.5l-.94 2.06-2.06.94zm10 10l.94 2.06.94-2.06 2.06-.94-2.06-.94-.94-2.06-.94 2.06-2.06.94z\"/><path d=\"M17.41 7.96l-1.37-1.37c-.4-.4-.92-.59-1.43-.59-.52 0-1.04.2-1.43.59L10.3 9.45l-7.72 7.72c-.78.78-.78 2.05 0 2.83L4 21.41c.39.39.9.59 1.41.59.51 0 1.02-.2 1.41-.59l7.78-7.78 2.81-2.81c.8-.78.8-2.07 0-2.86zM5.41 20L4 18.59l7.72-7.72 1.47 1.35L5.41 20z\"/>\n",
              "  </svg>\n",
              "      </button>\n",
              "      \n",
              "  <style>\n",
              "    .colab-df-container {\n",
              "      display:flex;\n",
              "      flex-wrap:wrap;\n",
              "      gap: 12px;\n",
              "    }\n",
              "\n",
              "    .colab-df-convert {\n",
              "      background-color: #E8F0FE;\n",
              "      border: none;\n",
              "      border-radius: 50%;\n",
              "      cursor: pointer;\n",
              "      display: none;\n",
              "      fill: #1967D2;\n",
              "      height: 32px;\n",
              "      padding: 0 0 0 0;\n",
              "      width: 32px;\n",
              "    }\n",
              "\n",
              "    .colab-df-convert:hover {\n",
              "      background-color: #E2EBFA;\n",
              "      box-shadow: 0px 1px 2px rgba(60, 64, 67, 0.3), 0px 1px 3px 1px rgba(60, 64, 67, 0.15);\n",
              "      fill: #174EA6;\n",
              "    }\n",
              "\n",
              "    [theme=dark] .colab-df-convert {\n",
              "      background-color: #3B4455;\n",
              "      fill: #D2E3FC;\n",
              "    }\n",
              "\n",
              "    [theme=dark] .colab-df-convert:hover {\n",
              "      background-color: #434B5C;\n",
              "      box-shadow: 0px 1px 3px 1px rgba(0, 0, 0, 0.15);\n",
              "      filter: drop-shadow(0px 1px 2px rgba(0, 0, 0, 0.3));\n",
              "      fill: #FFFFFF;\n",
              "    }\n",
              "  </style>\n",
              "\n",
              "      <script>\n",
              "        const buttonEl =\n",
              "          document.querySelector('#df-6d7ef2df-2d18-4efe-a8f0-617d20b4d237 button.colab-df-convert');\n",
              "        buttonEl.style.display =\n",
              "          google.colab.kernel.accessAllowed ? 'block' : 'none';\n",
              "\n",
              "        async function convertToInteractive(key) {\n",
              "          const element = document.querySelector('#df-6d7ef2df-2d18-4efe-a8f0-617d20b4d237');\n",
              "          const dataTable =\n",
              "            await google.colab.kernel.invokeFunction('convertToInteractive',\n",
              "                                                     [key], {});\n",
              "          if (!dataTable) return;\n",
              "\n",
              "          const docLinkHtml = 'Like what you see? Visit the ' +\n",
              "            '<a target=\"_blank\" href=https://colab.research.google.com/notebooks/data_table.ipynb>data table notebook</a>'\n",
              "            + ' to learn more about interactive tables.';\n",
              "          element.innerHTML = '';\n",
              "          dataTable['output_type'] = 'display_data';\n",
              "          await google.colab.output.renderOutput(dataTable, element);\n",
              "          const docLink = document.createElement('div');\n",
              "          docLink.innerHTML = docLinkHtml;\n",
              "          element.appendChild(docLink);\n",
              "        }\n",
              "      </script>\n",
              "    </div>\n",
              "  </div>\n",
              "  "
            ]
          },
          "metadata": {},
          "execution_count": 34
        }
      ]
    },
    {
      "cell_type": "code",
      "source": [
        "# Central Tendency setelah outlier dibersihkan\n",
        "print ('Min: ' + str(mrf1[\"load_weight\"].min()))\n",
        "print ('Mode: ' + str(mrf1[\"load_weight\"].mode()[0]))\n",
        "print ('Median: ' + str(mrf1[\"load_weight\"].median()))\n",
        "print ('Mean: ' + str(mrf1[\"load_weight\"].mean()))\n",
        "print ('Max: ' + str(mrf1[\"load_weight\"].max()))"
      ],
      "metadata": {
        "colab": {
          "base_uri": "https://localhost:8080/"
        },
        "id": "hnxp8q2R545X",
        "outputId": "ed916f3d-ee00-41ca-86aa-ab2bc76101a6"
      },
      "execution_count": 35,
      "outputs": [
        {
          "output_type": "stream",
          "name": "stdout",
          "text": [
            "Min: 40.0\n",
            "Mode: 1419.0496894409937\n",
            "Median: 1360.0\n",
            "Mean: 1419.049689440994\n",
            "Max: 4120.0\n"
          ]
        }
      ]
    },
    {
      "cell_type": "markdown",
      "source": [
        "### *Range*, *Variance*, dan standar deviasi "
      ],
      "metadata": {
        "id": "n_jxdZXi8u2-"
      }
    },
    {
      "cell_type": "code",
      "source": [
        "# Nilai Range, Variance, Standar Deviasi\n",
        "print('Range: ' + str(max(mrf1[\"load_weight\"]) - min(mrf1[\"load_weight\"])))\n",
        "print('Variance: ' + str(np.var(mrf1[\"load_weight\"])))\n",
        "print('Standard Deviation: ' + str(np.std(mrf1[\"load_weight\"])))"
      ],
      "metadata": {
        "colab": {
          "base_uri": "https://localhost:8080/"
        },
        "id": "GWTTNkPM8U-z",
        "outputId": "f15bda87-9f40-4e08-df73-eae6aaeee69d"
      },
      "execution_count": 36,
      "outputs": [
        {
          "output_type": "stream",
          "name": "stdout",
          "text": [
            "Range: 4080.0\n",
            "Variance: 724041.9023957408\n",
            "Standard Deviation: 850.9065180122554\n"
          ]
        }
      ]
    },
    {
      "cell_type": "code",
      "source": [
        "# Nilai Central Tendency\n",
        "print ('Min: ' + str(mrf1[\"load_weight\"].min()))\n",
        "print ('Mode: ' + str(mrf1[\"load_weight\"].mode()[0]))\n",
        "print ('Median: ' + str(mrf1[\"load_weight\"].median()))\n",
        "print ('Mean: ' + str(mrf1[\"load_weight\"].mean()))\n",
        "print ('Max: ' + str(mrf1[\"load_weight\"].max()))"
      ],
      "metadata": {
        "colab": {
          "base_uri": "https://localhost:8080/"
        },
        "id": "pucG9q-GxHBO",
        "outputId": "9e818893-bc93-49eb-c3b8-70f6c0eef839"
      },
      "execution_count": 70,
      "outputs": [
        {
          "output_type": "stream",
          "name": "stdout",
          "text": [
            "Min: 40.0\n",
            "Mode: 1419.0496894409937\n",
            "Median: 1360.0\n",
            "Mean: 1419.049689440994\n",
            "Max: 4120.0\n"
          ]
        }
      ]
    },
    {
      "cell_type": "markdown",
      "source": [
        "Interpretasi: Nilai varians adalah 724041.9. Semakin besar nilai varians maka semakin jauh data yang kita gunakan tersebar dari nilai rata-ratanya. Terbukti bahwa nilai rata-rata adalah sebesar 1419.05 yang nilainya lebih kecil daripada varians. Standar deviasi bertujuan untuk mengetahui berapa banyak nilai atau jumlah data yang berbeda dari rata-rata."
      ],
      "metadata": {
        "id": "LrHN39UzDhBm"
      }
    },
    {
      "cell_type": "markdown",
      "source": [
        "### *Confidence Interval*"
      ],
      "metadata": {
        "id": "kzJD6znZM4_J"
      }
    },
    {
      "cell_type": "markdown",
      "source": [
        "Menggunakan keseluruhan dropoff_site (n=25109) dan menggunakan 95% Confidence Interval."
      ],
      "metadata": {
        "id": "8ND8jUdO0rIZ"
      }
    },
    {
      "cell_type": "code",
      "source": [
        "# Import Library\n",
        "import numpy as np\n",
        "import scipy.stats as st\n",
        "import math\n",
        "\n",
        "# Calculating aggregated mean, count, standard deviation\n",
        "stats = awd.groupby([\"dropoff_site\"])[\"load_weight\"].agg(['mean', 'median', 'count', 'std'])\n",
        "print(stats)\n",
        "print('-'*30)\n",
        "\n",
        "# Calculating Confidence Interval\n",
        "ci95_hi = []\n",
        "ci95_lo = []\n",
        "\n",
        "for i in stats.index:\n",
        "    m, n, c, s = stats.loc[i]\n",
        "    ci95_hi.append(m + 1.96*s/math.sqrt(c))\n",
        "    ci95_lo.append(m - 1.96*s/math.sqrt(c))\n",
        "\n",
        "stats['ci95_hi'] = ci95_hi\n",
        "stats['ci95_lo'] = ci95_lo\n",
        "print(stats)\n"
      ],
      "metadata": {
        "colab": {
          "base_uri": "https://localhost:8080/"
        },
        "id": "gYvCrbSZ0bRB",
        "outputId": "1fc0dbe2-339b-4935-ea2c-7ac4d665d1b8"
      },
      "execution_count": 39,
      "outputs": [
        {
          "output_type": "stream",
          "name": "stdout",
          "text": [
            "                               mean   median  count          std\n",
            "dropoff_site                                                    \n",
            "AUSTIN IRON AND METAL    451.200000    400.0     50   215.649375\n",
            "AUSTIN WOOD RECYCLING   4050.000000   4050.0      2  2418.305192\n",
            "BALCONES RECYCLING      9464.652072   9840.0   3837  3862.243653\n",
            "BALCONES WOODS          8460.000000   8460.0      1          NaN\n",
            "GREAT NORTHERN         11973.142857  11300.0     70  2691.892036\n",
            "HORNSBY BEND            6637.111782   6400.0   1655  3240.840371\n",
            "MRF                     1799.982143   1360.0    168  2266.194104\n",
            "ON ROUTE HIGH DUMP     11405.925926  11300.0     81  1419.744500\n",
            "ONION CREEK            11300.000000  11300.0    813     0.000000\n",
            "ORGANICS BY GOSH       11817.220851  11900.0   5755  5064.655764\n",
            "PARK BEND              13385.000000  12330.0      4  5721.570297\n",
            "PARK CENTER            11300.000000  11300.0     75     0.000000\n",
            "ST. EDWARDS            11300.000000  11300.0      1          NaN\n",
            "STEINER LANDFILL         780.000000    780.0      1          NaN\n",
            "TDS - MRF               9872.550882  10330.0   2948  4083.627968\n",
            "TDS LANDFILL           15168.321726  14920.0  10694  8590.068498\n",
            "WESTFIELD              16020.000000  16020.0      1          NaN\n",
            "WILCAB                 11300.000000  11300.0      1          NaN\n",
            "------------------------------\n",
            "                               mean   median  count          std  \\\n",
            "dropoff_site                                                       \n",
            "AUSTIN IRON AND METAL    451.200000    400.0     50   215.649375   \n",
            "AUSTIN WOOD RECYCLING   4050.000000   4050.0      2  2418.305192   \n",
            "BALCONES RECYCLING      9464.652072   9840.0   3837  3862.243653   \n",
            "BALCONES WOODS          8460.000000   8460.0      1          NaN   \n",
            "GREAT NORTHERN         11973.142857  11300.0     70  2691.892036   \n",
            "HORNSBY BEND            6637.111782   6400.0   1655  3240.840371   \n",
            "MRF                     1799.982143   1360.0    168  2266.194104   \n",
            "ON ROUTE HIGH DUMP     11405.925926  11300.0     81  1419.744500   \n",
            "ONION CREEK            11300.000000  11300.0    813     0.000000   \n",
            "ORGANICS BY GOSH       11817.220851  11900.0   5755  5064.655764   \n",
            "PARK BEND              13385.000000  12330.0      4  5721.570297   \n",
            "PARK CENTER            11300.000000  11300.0     75     0.000000   \n",
            "ST. EDWARDS            11300.000000  11300.0      1          NaN   \n",
            "STEINER LANDFILL         780.000000    780.0      1          NaN   \n",
            "TDS - MRF               9872.550882  10330.0   2948  4083.627968   \n",
            "TDS LANDFILL           15168.321726  14920.0  10694  8590.068498   \n",
            "WESTFIELD              16020.000000  16020.0      1          NaN   \n",
            "WILCAB                 11300.000000  11300.0      1          NaN   \n",
            "\n",
            "                            ci95_hi       ci95_lo  \n",
            "dropoff_site                                       \n",
            "AUSTIN IRON AND METAL    510.974957    391.425043  \n",
            "AUSTIN WOOD RECYCLING   7401.600000    698.400000  \n",
            "BALCONES RECYCLING      9586.860129   9342.444015  \n",
            "BALCONES WOODS                  NaN           NaN  \n",
            "GREAT NORTHERN         12603.758427  11342.527288  \n",
            "HORNSBY BEND            6793.251976   6480.971589  \n",
            "MRF                     2142.669858   1457.294428  \n",
            "ON ROUTE HIGH DUMP     11715.114728  11096.737124  \n",
            "ONION CREEK            11300.000000  11300.000000  \n",
            "ORGANICS BY GOSH       11948.073748  11686.367955  \n",
            "PARK BEND              18992.138891   7777.861109  \n",
            "PARK CENTER            11300.000000  11300.000000  \n",
            "ST. EDWARDS                     NaN           NaN  \n",
            "STEINER LANDFILL                NaN           NaN  \n",
            "TDS - MRF              10019.964804   9725.136960  \n",
            "TDS LANDFILL           15331.132301  15005.511152  \n",
            "WESTFIELD                       NaN           NaN  \n",
            "WILCAB                          NaN           NaN  \n"
          ]
        }
      ]
    },
    {
      "cell_type": "markdown",
      "source": [
        "Beda rerata 25109 data beban muatan (load_weight) yang dikumpulkan dari 14 lokasi tempat pembuangan akhir (dropoff_site) ditunjukkan pada hasil kalkulasi di atas. Lokasi pembuangan dengan nilai paling tinggi adalah TDS landfill dengan rerata beban dari 10964 angkutan selama Januari s.d. 9 Juli 2021 adalah 15168.32 (95% CI = 15005.51 sampai 15331.13). Lokasi pembuangan dengan nilai terendah adalah Austin Iron and Metal dengan rerata beban dari 50 angkutan selama Januari s.d. 9 Juli 2021 adalah 451.20 (95% CI = 391.42 sampai 510.97). Jika pemerintah berencana menambah site baru, disarankan untuk memiliki rerata kapasitas yang melebihi 451.20 agar beban muatan bisa tertampung secara maksimal."
      ],
      "metadata": {
        "id": "VqHa8bup0aus"
      }
    },
    {
      "cell_type": "markdown",
      "source": [
        "### Uji Hipotesis"
      ],
      "metadata": {
        "id": "ukgE9-36NJzg"
      }
    },
    {
      "cell_type": "code",
      "source": [
        "# Import Library\n",
        "import scipy.stats"
      ],
      "metadata": {
        "id": "3LWs1Lg0VrSf"
      },
      "execution_count": 57,
      "outputs": []
    },
    {
      "cell_type": "code",
      "source": [
        "# Rata-rata keseluruhan (Populasi)\n",
        "print ('Mean: ' + str(mrf1[\"load_weight\"].mean()))"
      ],
      "metadata": {
        "colab": {
          "base_uri": "https://localhost:8080/"
        },
        "id": "uaaDjoRxNUk0",
        "outputId": "53f3178c-fa60-40af-e00f-63e3f27f1000"
      },
      "execution_count": 63,
      "outputs": [
        {
          "output_type": "stream",
          "name": "stdout",
          "text": [
            "Mean: 1419.049689440994\n"
          ]
        }
      ]
    },
    {
      "cell_type": "code",
      "source": [
        "# Rata-rata sampel\n",
        "print('Rata-rata beban muatan Juni-Juli 2021: ' + str(mrf1[(mrf1 [\"report_date\"] < \"31/05/2021\")][\"load_weight\"].mean()))\n"
      ],
      "metadata": {
        "colab": {
          "base_uri": "https://localhost:8080/"
        },
        "id": "QEkt4D_QP3wo",
        "outputId": "534d1d41-d9fd-41c2-bd73-3a95b36968de"
      },
      "execution_count": 48,
      "outputs": [
        {
          "output_type": "stream",
          "name": "stdout",
          "text": [
            "Rata-rata beban muatan Juni-Juli 2021: 1337.0862318840582\n"
          ]
        }
      ]
    },
    {
      "cell_type": "markdown",
      "source": [
        "Untuk mengetahui apakah terdapat penurunan signifikan dapat menggunakan \n",
        "single sample one sided dan menetapkan level signifikansi sebesar 0.05. Cara ini dipilih karena hanya akan mengetes satu variabel dan membandingkan data sampel (Juni-Juli 2021) dengan data populasi (Januari-Juli 2021).\n",
        "\n",
        "Rumusan hipotesis:\n",
        "\n",
        "**H0: μ >= 1419**\n",
        "\n",
        "**H1: μ < 1419**"
      ],
      "metadata": {
        "id": "4VTAT5oURsCO"
      }
    },
    {
      "cell_type": "code",
      "source": [
        "# Menghitung nilai p-value dan t-hitung\n",
        "t_stat,p_val = scipy.stats.ttest_1samp(mrf1.load_weight, 1419)\n",
        "print('P-value:',p_val/2) #The p-value divided by 2 since the output is two-sided p-value\n",
        "print('t-statistics:',t_stat)"
      ],
      "metadata": {
        "colab": {
          "base_uri": "https://localhost:8080/"
        },
        "id": "zyk1TjxZUB6W",
        "outputId": "a52c7026-d44c-4776-d23c-44da2036be05"
      },
      "execution_count": 64,
      "outputs": [
        {
          "output_type": "stream",
          "name": "stdout",
          "text": [
            "P-value: 0.4996993921046802\n",
            "t-statistics: 0.0007546411723823231\n"
          ]
        }
      ]
    },
    {
      "cell_type": "code",
      "source": [
        "# Membuat grafik\n",
        "lw_pop = np.random.normal(mrf1.load_weight.mean(), mrf1.load_weight.std(), 10000)\n",
        "\n",
        "ci = scipy.stats.norm.interval(0.90, mrf1.load_weight.mean(), mrf1.load_weight.std())\n",
        "\n",
        "plt.figure(figsize=(16,5))\n",
        "sns.displot(lw_pop, label='Load Weight (Population)', color='blue')\n",
        "plt.axvline(mrf1.load_weight.mean(), color='red', linewidth=2, label='Load Weight (Mean)')\n",
        "plt.axvline(ci[1], color='green', linestyle='dashed', linewidth=2, label='Confidence Threshold of 95%')\n",
        "plt.axvline(lw_pop.mean() + t_stat*lw_pop.std(), color='black', linestyle='dashed', linewidth=2, label = 'Alternative Hypothesis')\n",
        "plt.legend()"
      ],
      "metadata": {
        "colab": {
          "base_uri": "https://localhost:8080/",
          "height": 405
        },
        "id": "j1dFxaiPX1ak",
        "outputId": "0d4912da-4d06-4e9d-efb3-0c2f455cdb80"
      },
      "execution_count": 69,
      "outputs": [
        {
          "output_type": "execute_result",
          "data": {
            "text/plain": [
              "<matplotlib.legend.Legend at 0x7fba2182ecd0>"
            ]
          },
          "metadata": {},
          "execution_count": 69
        },
        {
          "output_type": "display_data",
          "data": {
            "text/plain": [
              "<Figure size 1152x360 with 0 Axes>"
            ]
          },
          "metadata": {}
        },
        {
          "output_type": "display_data",
          "data": {
            "text/plain": [
              "<Figure size 360x360 with 1 Axes>"
            ],
            "image/png": "[encoded data removed]"
          },
          "metadata": {
            "needs_background": "light"
          }
        }
      ]
    },
    {
      "cell_type": "markdown",
      "source": [
        "Nilai signifikansi yang melebihi 0.05 menjadikan kurangnya bukti untuk menolak hipotesis awal sehingga dapat dikatakan bahwa tidak terjadi penurunan beban muatan secara signifikan selama bulan Juni-Juli 2021."
      ],
      "metadata": {
        "id": "xTGKl3KQeZBG"
      }
    },
    {
      "cell_type": "markdown",
      "source": [
        "### Jawab Pertanyaan"
      ],
      "metadata": {
        "id": "rsLIZSuHNMMH"
      }
    },
    {
      "cell_type": "markdown",
      "source": [
        "**1. Teknik apa yang kamu pilih untuk handling outlier? jelaskan alasannya!**\n",
        "\n",
        "  Jawab: Dalam menangani outlier, dilakukan metode penggantian nilai outlier dengan nilai null dan nilai null dapat diatasi dengan melakukan imputasi dengan nilai mean. Pemilihan metode penanganan outliers dengan imputasi dilakukan dengan tujuan untuk menghindari kebocoran data karena data yang bersifat time-series.\n",
        "\n",
        "**2. Apa konsep dibalik confidence interval sehingga kita dapat menggunakannya untuk menyelesaikan langkah pada nomor 7?**\n",
        "  \n",
        "  Jawab: Apa yang terjadi pada sampel juga terjadi pada populasi. Karena itu, karakteristik dari sampel digunakan untuk estimasi karakteristik yang sama pada populasinya. Confidence Interval adalah nilai range yang melalui nilai aktual yang terjadi pada populasi.\n",
        "\n",
        "**3. Jelaskan jenis uji hipotesis apa yang kamu terapkan dan mengapa?**\n",
        "  \n",
        "  Jawab: Uji hipotesis yang dilakukan menggunakan signifikansi satu ekor. Cara ini dipilih karena hanya akan mengetes satu variabel dan membandingkan data sampel (Juni-Juli 2021) dengan data populasi (Januari-Juli 2021).\n"
      ],
      "metadata": {
        "id": "qzy3ozcpJWUP"
      }
    },
    {
      "cell_type": "markdown",
      "source": [
        "## Conclusions, Assumptions, Overall Analysis\n",
        "\n",
        "*   Terdapat 14 jenis limbah yang dikumpulkan di 18 lokasi Tempat Pembuangan Akhir di kota Austin.\n",
        "*   Lokasi pembuangan dengan nilai paling tinggi adalah TDS landfill dengan rerata beban dari 10964 angkutan selama Januari s.d. 9 Juli 2021 adalah 15168.32 (95% CI = 15005.51 sampai 15331.13).  \n",
        "*   Lokasi pembuangan dengan nilai terendah adalah Austin Iron and Metal dengan rerata beban dari 50 angkutan selama Januari s.d. 9 Juli 2021 adalah 451.20 (95% CI = 391.42 sampai 510.97).\n",
        "*   Jika pemerintah berencana menambah site baru, disarankan untuk memiliki rerata kapasitas yang melebihi 451.20 agar beban muatan bisa tertampung secara maksimal.\n",
        "*   Berdasarkan uji hipotesis, tidak terjadi penurunan beban muatan limbah yang diangkut selama bulan Juni-Juli 2021\n",
        "\n",
        "\n",
        "\n"
      ],
      "metadata": {
        "id": "StqKDYPl8VcU"
      }
    }
  ]
}